{
 "cells": [
  {
   "cell_type": "markdown",
   "metadata": {},
   "source": [
    "# Predicting Housing Prices Using Regression"
   ]
  },
  {
   "cell_type": "markdown",
   "metadata": {},
   "source": [
    "The goal of this notebook is to explore multiple regression and feature engineering Sklearn functions.\n",
    "\n",
    "In this notebook you will use data on house sales in California to predict prices using multiple, polynomial, ridge, and lasson regression. You will:\n",
    "* Perform feature engineering\n",
    "* Remove outliers\n",
    "* Handling Text and Categorical Attributes\n",
    "* Train multiple regression models \n",
    "* Inspect coefficients and interpret their meanings\n",
    "* Evaluate multiple models via RMSE, MAE, and R2\n",
    "* Use Cross validation to regularize weights to shrink coefficients of features not useful for predicting housing prices"
   ]
  },
  {
   "cell_type": "code",
   "execution_count": 1,
   "metadata": {},
   "outputs": [],
   "source": [
    "import pandas as pd\n",
    "import numpy as np\n",
    "import matplotlib.pyplot as plt\n",
    "from sklearn.model_selection import train_test_split\n",
    "from sklearn.pipeline import Pipeline\n",
    "from sklearn.preprocessing import StandardScaler"
   ]
  },
  {
   "cell_type": "markdown",
   "metadata": {},
   "source": [
    "# Import in house data"
   ]
  },
  {
   "cell_type": "code",
   "execution_count": 2,
   "metadata": {},
   "outputs": [],
   "source": [
    "df = pd.read_csv('../datasets/housing/housing_paml_hw2.csv')"
   ]
  },
  {
   "cell_type": "code",
   "execution_count": 3,
   "metadata": {},
   "outputs": [
    {
     "data": {
      "text/html": [
       "<div>\n",
       "<style scoped>\n",
       "    .dataframe tbody tr th:only-of-type {\n",
       "        vertical-align: middle;\n",
       "    }\n",
       "\n",
       "    .dataframe tbody tr th {\n",
       "        vertical-align: top;\n",
       "    }\n",
       "\n",
       "    .dataframe thead th {\n",
       "        text-align: right;\n",
       "    }\n",
       "</style>\n",
       "<table border=\"1\" class=\"dataframe\">\n",
       "  <thead>\n",
       "    <tr style=\"text-align: right;\">\n",
       "      <th></th>\n",
       "      <th>longitude</th>\n",
       "      <th>latitude</th>\n",
       "      <th>housing_median_age</th>\n",
       "      <th>total_rooms</th>\n",
       "      <th>total_bedrooms</th>\n",
       "      <th>population</th>\n",
       "      <th>households</th>\n",
       "      <th>median_income</th>\n",
       "      <th>median_house_value</th>\n",
       "      <th>postcode</th>\n",
       "      <th>rooms_per_household</th>\n",
       "      <th>number_bedrooms</th>\n",
       "      <th>number_bathrooms</th>\n",
       "    </tr>\n",
       "  </thead>\n",
       "  <tbody>\n",
       "    <tr>\n",
       "      <th>count</th>\n",
       "      <td>20634.000000</td>\n",
       "      <td>20622.000000</td>\n",
       "      <td>20628.000000</td>\n",
       "      <td>20633.000000</td>\n",
       "      <td>20412.000000</td>\n",
       "      <td>20623.000000</td>\n",
       "      <td>20636.000000</td>\n",
       "      <td>20628.000000</td>\n",
       "      <td>20636.000000</td>\n",
       "      <td>19480.00000</td>\n",
       "      <td>20630.000000</td>\n",
       "      <td>20408.000000</td>\n",
       "      <td>20402.000000</td>\n",
       "    </tr>\n",
       "    <tr>\n",
       "      <th>mean</th>\n",
       "      <td>-119.568930</td>\n",
       "      <td>35.629984</td>\n",
       "      <td>28.627400</td>\n",
       "      <td>2636.036640</td>\n",
       "      <td>537.973104</td>\n",
       "      <td>1425.785822</td>\n",
       "      <td>502.938699</td>\n",
       "      <td>3.871190</td>\n",
       "      <td>206857.824239</td>\n",
       "      <td>92827.16961</td>\n",
       "      <td>5.425892</td>\n",
       "      <td>1.801303</td>\n",
       "      <td>4.127144</td>\n",
       "    </tr>\n",
       "    <tr>\n",
       "      <th>std</th>\n",
       "      <td>2.003309</td>\n",
       "      <td>2.135938</td>\n",
       "      <td>12.578766</td>\n",
       "      <td>2181.812336</td>\n",
       "      <td>421.485694</td>\n",
       "      <td>1132.484600</td>\n",
       "      <td>401.059635</td>\n",
       "      <td>1.899747</td>\n",
       "      <td>115403.235750</td>\n",
       "      <td>3201.14473</td>\n",
       "      <td>2.478186</td>\n",
       "      <td>0.617657</td>\n",
       "      <td>2.168191</td>\n",
       "    </tr>\n",
       "    <tr>\n",
       "      <th>min</th>\n",
       "      <td>-124.350000</td>\n",
       "      <td>32.540000</td>\n",
       "      <td>1.000000</td>\n",
       "      <td>2.000000</td>\n",
       "      <td>1.000000</td>\n",
       "      <td>3.000000</td>\n",
       "      <td>1.000000</td>\n",
       "      <td>0.499900</td>\n",
       "      <td>14999.000000</td>\n",
       "      <td>1387.00000</td>\n",
       "      <td>0.125800</td>\n",
       "      <td>1.000000</td>\n",
       "      <td>-0.000000</td>\n",
       "    </tr>\n",
       "    <tr>\n",
       "      <th>25%</th>\n",
       "      <td>-121.797500</td>\n",
       "      <td>33.930000</td>\n",
       "      <td>18.000000</td>\n",
       "      <td>1448.000000</td>\n",
       "      <td>296.000000</td>\n",
       "      <td>788.000000</td>\n",
       "      <td>280.000000</td>\n",
       "      <td>2.563975</td>\n",
       "      <td>119600.000000</td>\n",
       "      <td>91360.00000</td>\n",
       "      <td>4.439044</td>\n",
       "      <td>2.000000</td>\n",
       "      <td>3.000000</td>\n",
       "    </tr>\n",
       "    <tr>\n",
       "      <th>50%</th>\n",
       "      <td>-118.490000</td>\n",
       "      <td>34.250000</td>\n",
       "      <td>29.000000</td>\n",
       "      <td>2127.000000</td>\n",
       "      <td>435.000000</td>\n",
       "      <td>1167.000000</td>\n",
       "      <td>410.000000</td>\n",
       "      <td>3.535250</td>\n",
       "      <td>179700.000000</td>\n",
       "      <td>92780.00000</td>\n",
       "      <td>5.227934</td>\n",
       "      <td>2.000000</td>\n",
       "      <td>4.000000</td>\n",
       "    </tr>\n",
       "    <tr>\n",
       "      <th>75%</th>\n",
       "      <td>-118.010000</td>\n",
       "      <td>37.710000</td>\n",
       "      <td>37.000000</td>\n",
       "      <td>3148.000000</td>\n",
       "      <td>647.000000</td>\n",
       "      <td>1725.000000</td>\n",
       "      <td>606.000000</td>\n",
       "      <td>4.743775</td>\n",
       "      <td>264725.000000</td>\n",
       "      <td>94580.00000</td>\n",
       "      <td>6.052120</td>\n",
       "      <td>2.000000</td>\n",
       "      <td>5.000000</td>\n",
       "    </tr>\n",
       "    <tr>\n",
       "      <th>max</th>\n",
       "      <td>-114.310000</td>\n",
       "      <td>41.950000</td>\n",
       "      <td>52.000000</td>\n",
       "      <td>39320.000000</td>\n",
       "      <td>6445.000000</td>\n",
       "      <td>35682.000000</td>\n",
       "      <td>6082.000000</td>\n",
       "      <td>15.000100</td>\n",
       "      <td>500001.000000</td>\n",
       "      <td>99262.00000</td>\n",
       "      <td>141.909091</td>\n",
       "      <td>35.000000</td>\n",
       "      <td>116.000000</td>\n",
       "    </tr>\n",
       "  </tbody>\n",
       "</table>\n",
       "</div>"
      ],
      "text/plain": [
       "          longitude      latitude  housing_median_age   total_rooms  \\\n",
       "count  20634.000000  20622.000000        20628.000000  20633.000000   \n",
       "mean    -119.568930     35.629984           28.627400   2636.036640   \n",
       "std        2.003309      2.135938           12.578766   2181.812336   \n",
       "min     -124.350000     32.540000            1.000000      2.000000   \n",
       "25%     -121.797500     33.930000           18.000000   1448.000000   \n",
       "50%     -118.490000     34.250000           29.000000   2127.000000   \n",
       "75%     -118.010000     37.710000           37.000000   3148.000000   \n",
       "max     -114.310000     41.950000           52.000000  39320.000000   \n",
       "\n",
       "       total_bedrooms    population    households  median_income  \\\n",
       "count    20412.000000  20623.000000  20636.000000   20628.000000   \n",
       "mean       537.973104   1425.785822    502.938699       3.871190   \n",
       "std        421.485694   1132.484600    401.059635       1.899747   \n",
       "min          1.000000      3.000000      1.000000       0.499900   \n",
       "25%        296.000000    788.000000    280.000000       2.563975   \n",
       "50%        435.000000   1167.000000    410.000000       3.535250   \n",
       "75%        647.000000   1725.000000    606.000000       4.743775   \n",
       "max       6445.000000  35682.000000   6082.000000      15.000100   \n",
       "\n",
       "       median_house_value     postcode  rooms_per_household  number_bedrooms  \\\n",
       "count        20636.000000  19480.00000         20630.000000     20408.000000   \n",
       "mean        206857.824239  92827.16961             5.425892         1.801303   \n",
       "std         115403.235750   3201.14473             2.478186         0.617657   \n",
       "min          14999.000000   1387.00000             0.125800         1.000000   \n",
       "25%         119600.000000  91360.00000             4.439044         2.000000   \n",
       "50%         179700.000000  92780.00000             5.227934         2.000000   \n",
       "75%         264725.000000  94580.00000             6.052120         2.000000   \n",
       "max         500001.000000  99262.00000           141.909091        35.000000   \n",
       "\n",
       "       number_bathrooms  \n",
       "count      20402.000000  \n",
       "mean           4.127144  \n",
       "std            2.168191  \n",
       "min           -0.000000  \n",
       "25%            3.000000  \n",
       "50%            4.000000  \n",
       "75%            5.000000  \n",
       "max          116.000000  "
      ]
     },
     "execution_count": 3,
     "metadata": {},
     "output_type": "execute_result"
    }
   ],
   "source": [
    "df.describe()"
   ]
  },
  {
   "cell_type": "markdown",
   "metadata": {},
   "source": [
    "# Explore Dataset"
   ]
  },
  {
   "cell_type": "code",
   "execution_count": 4,
   "metadata": {},
   "outputs": [
    {
     "data": {
      "text/plain": [
       "<AxesSubplot:ylabel='Frequency'>"
      ]
     },
     "execution_count": 4,
     "metadata": {},
     "output_type": "execute_result"
    },
    {
     "data": {
      "image/png": "[encoded data removed]",
      "text/plain": [
       "<Figure size 432x288 with 1 Axes>"
      ]
     },
     "metadata": {
      "needs_background": "light"
     },
     "output_type": "display_data"
    },
    {
     "data": {
      "image/png": "[encoded data removed]",
      "text/plain": [
       "<Figure size 432x288 with 1 Axes>"
      ]
     },
     "metadata": {
      "needs_background": "light"
     },
     "output_type": "display_data"
    },
    {
     "data": {
      "image/png": "[encoded data removed]",
      "text/plain": [
       "<Figure size 432x288 with 1 Axes>"
      ]
     },
     "metadata": {
      "needs_background": "light"
     },
     "output_type": "display_data"
    },
    {
     "data": {
      "image/png": "[encoded data removed]",
      "text/plain": [
       "<Figure size 432x288 with 1 Axes>"
      ]
     },
     "metadata": {
      "needs_background": "light"
     },
     "output_type": "display_data"
    }
   ],
   "source": [
    "# Example of outliers (scatter plot)\n",
    "df.boxplot(column=['total_rooms','total_bedrooms'])\n",
    "df.plot.scatter(x='longitude',y='latitude')\n",
    "df.plot.line(x='longitude',y='latitude')\n",
    "df.plot.hist(x='longitude',y='latitude')"
   ]
  },
  {
   "cell_type": "code",
   "execution_count": 5,
   "metadata": {},
   "outputs": [
    {
     "data": {
      "image/png": "[encoded data removed]",
      "text/plain": [
       "<Figure size 1440x1080 with 16 Axes>"
      ]
     },
     "metadata": {
      "needs_background": "light"
     },
     "output_type": "display_data"
    }
   ],
   "source": [
    "%matplotlib inline\n",
    "import matplotlib.pyplot as plt\n",
    "df.hist(bins=50, figsize=(20,15))\n",
    "plt.show()"
   ]
  },
  {
   "cell_type": "markdown",
   "metadata": {},
   "source": [
    "Recall: Machine learning algorithms perform better on Gaussian-like data distributions (also known as a bell curve). Observe features that are and are NOT Gaussian-like. \n",
    "- If data is Gaussian-like, use normalization: transforms data to values that sum to 1 using data min and max\n",
    "- If data is not Gaussian-like, use standarization: transforms data to Gaussian distribution (looks like a bell curve) with values that sum to 1 using data mean and standard deviation"
   ]
  },
  {
   "cell_type": "markdown",
   "metadata": {},
   "source": [
    "### Explore correlations"
   ]
  },
  {
   "cell_type": "code",
   "execution_count": 6,
   "metadata": {},
   "outputs": [
    {
     "data": {
      "image/png": "[encoded data removed]",
      "text/plain": [
       "<Figure size 864x576 with 4 Axes>"
      ]
     },
     "metadata": {
      "needs_background": "light"
     },
     "output_type": "display_data"
    }
   ],
   "source": [
    "from pandas.plotting import scatter_matrix\n",
    "import matplotlib.pyplot as plt\n",
    "\n",
    "features = ['total_bedrooms','housing_median_age']\n",
    "fig = scatter_matrix(df[features], figsize=(12, 8))\n",
    "plt.show(fig[0][0].get_figure())"
   ]
  },
  {
   "cell_type": "markdown",
   "metadata": {},
   "source": [
    "State the correlation magnitude and direction"
   ]
  },
  {
   "cell_type": "code",
   "execution_count": 7,
   "metadata": {},
   "outputs": [],
   "source": [
    "correlation = df[features].corr()"
   ]
  },
  {
   "cell_type": "code",
   "execution_count": 8,
   "metadata": {},
   "outputs": [
    {
     "name": "stdout",
     "output_type": "stream",
     "text": [
      "f1 and f2 are weakly correlation\n",
      "f1 and f2 are negativey correlation\n"
     ]
    }
   ],
   "source": [
    "from itertools import combinations\n",
    "\n",
    "cor_summary_statements=[]\n",
    "feature_pairs = combinations(features, 2)\n",
    "for f1, f2 in feature_pairs:\n",
    "    cor = correlation[f1][f2]\n",
    "    if(abs(cor) > 0.5):\n",
    "        print('f1 and f2 are strongly correlation')\n",
    "    else:\n",
    "        print('f1 and f2 are weakly correlation')\n",
    "        \n",
    "    if(cor < 0):\n",
    "        print('f1 and f2 are negativey correlation')\n",
    "    else:\n",
    "        print('f1 and f2 are positively correlation')"
   ]
  },
  {
   "cell_type": "markdown",
   "metadata": {},
   "source": [
    "# Preprocess Dataset"
   ]
  },
  {
   "cell_type": "markdown",
   "metadata": {},
   "source": [
    "### View data with missing values or invalid inputs"
   ]
  },
  {
   "cell_type": "code",
   "execution_count": 9,
   "metadata": {},
   "outputs": [
    {
     "name": "stdout",
     "output_type": "stream",
     "text": [
      "Number of categories with missing values: 17.00\n",
      "Average number of missing values per category: 747.24\n",
      "Total number of missing values: 12703.00\n",
      "Top 3 categories with most missing values: ['city' 'postcode' 'road']\n"
     ]
    }
   ],
   "source": [
    "# Used for top categories with missing data\n",
    "top_n=3\n",
    "missing_column_counts = df[df.columns[df.isnull().any()]].isnull().sum()\n",
    "max_idxs = np.argsort(missing_column_counts.to_numpy())[::-1][:top_n]\n",
    "\n",
    "# Compute missing statistics\n",
    "num_categories = df.isna().any(axis=0).sum()\n",
    "average_per_category = df.isna().sum().sum()/len(df.columns)\n",
    "total_missing_values = df.isna().sum().sum()\n",
    "top_missing_categories = df.columns[max_idxs[:top_n]].to_numpy()\n",
    "    \n",
    "print('Number of categories with missing values: {0:.2f}'.format(num_categories))\n",
    "print('Average number of missing values per category: {0:.2f}'.format(average_per_category))\n",
    "print('Total number of missing values: {0:.2f}'.format(total_missing_values))\n",
    "print('Top {} categories with most missing values: {}'.format(top_n, top_missing_categories))"
   ]
  },
  {
   "cell_type": "markdown",
   "metadata": {},
   "source": [
    "### Remove irrelevant / useless features:"
   ]
  },
  {
   "cell_type": "code",
   "execution_count": 10,
   "metadata": {},
   "outputs": [
    {
     "name": "stdout",
     "output_type": "stream",
     "text": [
      "   longitude  latitude  housing_median_age  total_rooms  total_bedrooms  \\\n",
      "0    -122.23     37.88                41.0        880.0           129.0   \n",
      "1    -122.22     37.86                21.0       7099.0          1106.0   \n",
      "2    -122.24     37.85                52.0       1467.0           190.0   \n",
      "3    -122.25     37.85                52.0       1274.0           235.0   \n",
      "4    -122.25     37.85                52.0       1627.0           280.0   \n",
      "\n",
      "   population  households  median_income  median_house_value ocean_proximity  \\\n",
      "0       322.0       126.0         8.3252            452600.0        NEAR BAY   \n",
      "1      2401.0      1138.0         8.3014            358500.0        NEAR BAY   \n",
      "2       496.0       177.0         7.2574            352100.0        NEAR BAY   \n",
      "3       558.0       219.0         5.6431            341300.0        NEAR BAY   \n",
      "4       565.0       259.0         3.8462            342200.0             NaN   \n",
      "\n",
      "      city  postcode          county                   road  \\\n",
      "0  Oakland   94563.0  Alameda County     Summit House Trail   \n",
      "1  Oakland   94618.0  Alameda County         Kennedy Tunnel   \n",
      "2  Oakland   94618.0  Alameda County  Grove Shafter Freeway   \n",
      "3  Oakland   94168.0  Alameda County          Florio Street   \n",
      "4  Oakland   94168.0  Alameda County          Florio Street   \n",
      "\n",
      "   rooms_per_household  number_bedrooms  number_bathrooms  \n",
      "0             6.984127              2.0               5.0  \n",
      "1             6.238137              1.0               6.0  \n",
      "2             8.288136              2.0               7.0  \n",
      "3             5.817352              2.0               4.0  \n",
      "4             6.281853              2.0               5.0  \n"
     ]
    },
    {
     "data": {
      "text/html": [
       "<div>\n",
       "<style scoped>\n",
       "    .dataframe tbody tr th:only-of-type {\n",
       "        vertical-align: middle;\n",
       "    }\n",
       "\n",
       "    .dataframe tbody tr th {\n",
       "        vertical-align: top;\n",
       "    }\n",
       "\n",
       "    .dataframe thead th {\n",
       "        text-align: right;\n",
       "    }\n",
       "</style>\n",
       "<table border=\"1\" class=\"dataframe\">\n",
       "  <thead>\n",
       "    <tr style=\"text-align: right;\">\n",
       "      <th></th>\n",
       "      <th>longitude</th>\n",
       "      <th>latitude</th>\n",
       "      <th>housing_median_age</th>\n",
       "      <th>total_rooms</th>\n",
       "      <th>total_bedrooms</th>\n",
       "      <th>population</th>\n",
       "      <th>median_income</th>\n",
       "      <th>median_house_value</th>\n",
       "      <th>ocean_proximity</th>\n",
       "      <th>city</th>\n",
       "      <th>postcode</th>\n",
       "      <th>county</th>\n",
       "      <th>road</th>\n",
       "      <th>rooms_per_household</th>\n",
       "      <th>number_bedrooms</th>\n",
       "      <th>number_bathrooms</th>\n",
       "    </tr>\n",
       "  </thead>\n",
       "  <tbody>\n",
       "    <tr>\n",
       "      <th>0</th>\n",
       "      <td>-122.23</td>\n",
       "      <td>37.88</td>\n",
       "      <td>41.0</td>\n",
       "      <td>880.0</td>\n",
       "      <td>129.0</td>\n",
       "      <td>322.0</td>\n",
       "      <td>8.3252</td>\n",
       "      <td>452600.0</td>\n",
       "      <td>NEAR BAY</td>\n",
       "      <td>Oakland</td>\n",
       "      <td>94563.0</td>\n",
       "      <td>Alameda County</td>\n",
       "      <td>Summit House Trail</td>\n",
       "      <td>6.984127</td>\n",
       "      <td>2.0</td>\n",
       "      <td>5.0</td>\n",
       "    </tr>\n",
       "    <tr>\n",
       "      <th>1</th>\n",
       "      <td>-122.22</td>\n",
       "      <td>37.86</td>\n",
       "      <td>21.0</td>\n",
       "      <td>7099.0</td>\n",
       "      <td>1106.0</td>\n",
       "      <td>2401.0</td>\n",
       "      <td>8.3014</td>\n",
       "      <td>358500.0</td>\n",
       "      <td>NEAR BAY</td>\n",
       "      <td>Oakland</td>\n",
       "      <td>94618.0</td>\n",
       "      <td>Alameda County</td>\n",
       "      <td>Kennedy Tunnel</td>\n",
       "      <td>6.238137</td>\n",
       "      <td>1.0</td>\n",
       "      <td>6.0</td>\n",
       "    </tr>\n",
       "    <tr>\n",
       "      <th>2</th>\n",
       "      <td>-122.24</td>\n",
       "      <td>37.85</td>\n",
       "      <td>52.0</td>\n",
       "      <td>1467.0</td>\n",
       "      <td>190.0</td>\n",
       "      <td>496.0</td>\n",
       "      <td>7.2574</td>\n",
       "      <td>352100.0</td>\n",
       "      <td>NEAR BAY</td>\n",
       "      <td>Oakland</td>\n",
       "      <td>94618.0</td>\n",
       "      <td>Alameda County</td>\n",
       "      <td>Grove Shafter Freeway</td>\n",
       "      <td>8.288136</td>\n",
       "      <td>2.0</td>\n",
       "      <td>7.0</td>\n",
       "    </tr>\n",
       "    <tr>\n",
       "      <th>3</th>\n",
       "      <td>-122.25</td>\n",
       "      <td>37.85</td>\n",
       "      <td>52.0</td>\n",
       "      <td>1274.0</td>\n",
       "      <td>235.0</td>\n",
       "      <td>558.0</td>\n",
       "      <td>5.6431</td>\n",
       "      <td>341300.0</td>\n",
       "      <td>NEAR BAY</td>\n",
       "      <td>Oakland</td>\n",
       "      <td>94168.0</td>\n",
       "      <td>Alameda County</td>\n",
       "      <td>Florio Street</td>\n",
       "      <td>5.817352</td>\n",
       "      <td>2.0</td>\n",
       "      <td>4.0</td>\n",
       "    </tr>\n",
       "    <tr>\n",
       "      <th>4</th>\n",
       "      <td>-122.25</td>\n",
       "      <td>37.85</td>\n",
       "      <td>52.0</td>\n",
       "      <td>1627.0</td>\n",
       "      <td>280.0</td>\n",
       "      <td>565.0</td>\n",
       "      <td>3.8462</td>\n",
       "      <td>342200.0</td>\n",
       "      <td>NaN</td>\n",
       "      <td>Oakland</td>\n",
       "      <td>94168.0</td>\n",
       "      <td>Alameda County</td>\n",
       "      <td>Florio Street</td>\n",
       "      <td>6.281853</td>\n",
       "      <td>2.0</td>\n",
       "      <td>5.0</td>\n",
       "    </tr>\n",
       "    <tr>\n",
       "      <th>...</th>\n",
       "      <td>...</td>\n",
       "      <td>...</td>\n",
       "      <td>...</td>\n",
       "      <td>...</td>\n",
       "      <td>...</td>\n",
       "      <td>...</td>\n",
       "      <td>...</td>\n",
       "      <td>...</td>\n",
       "      <td>...</td>\n",
       "      <td>...</td>\n",
       "      <td>...</td>\n",
       "      <td>...</td>\n",
       "      <td>...</td>\n",
       "      <td>...</td>\n",
       "      <td>...</td>\n",
       "      <td>...</td>\n",
       "    </tr>\n",
       "    <tr>\n",
       "      <th>20635</th>\n",
       "      <td>-121.09</td>\n",
       "      <td>39.48</td>\n",
       "      <td>25.0</td>\n",
       "      <td>1665.0</td>\n",
       "      <td>374.0</td>\n",
       "      <td>845.0</td>\n",
       "      <td>1.5603</td>\n",
       "      <td>78100.0</td>\n",
       "      <td>INLAND</td>\n",
       "      <td>NaN</td>\n",
       "      <td>95922.0</td>\n",
       "      <td>Yuba County</td>\n",
       "      <td>Garden Valley Road</td>\n",
       "      <td>5.045455</td>\n",
       "      <td>2.0</td>\n",
       "      <td>4.0</td>\n",
       "    </tr>\n",
       "    <tr>\n",
       "      <th>20636</th>\n",
       "      <td>-121.21</td>\n",
       "      <td>39.49</td>\n",
       "      <td>18.0</td>\n",
       "      <td>697.0</td>\n",
       "      <td>150.0</td>\n",
       "      <td>356.0</td>\n",
       "      <td>2.5568</td>\n",
       "      <td>77100.0</td>\n",
       "      <td>INLAND</td>\n",
       "      <td>NaN</td>\n",
       "      <td>95925.0</td>\n",
       "      <td>Yuba County</td>\n",
       "      <td>La Porte Road</td>\n",
       "      <td>6.114035</td>\n",
       "      <td>2.0</td>\n",
       "      <td>5.0</td>\n",
       "    </tr>\n",
       "    <tr>\n",
       "      <th>20637</th>\n",
       "      <td>-121.22</td>\n",
       "      <td>39.43</td>\n",
       "      <td>17.0</td>\n",
       "      <td>2254.0</td>\n",
       "      <td>485.0</td>\n",
       "      <td>1007.0</td>\n",
       "      <td>1.7000</td>\n",
       "      <td>92300.0</td>\n",
       "      <td>INLAND</td>\n",
       "      <td>NaN</td>\n",
       "      <td>95925.0</td>\n",
       "      <td>Yuba County</td>\n",
       "      <td>Indiana Ranch Road</td>\n",
       "      <td>5.205543</td>\n",
       "      <td>2.0</td>\n",
       "      <td>4.0</td>\n",
       "    </tr>\n",
       "    <tr>\n",
       "      <th>20638</th>\n",
       "      <td>-121.32</td>\n",
       "      <td>39.43</td>\n",
       "      <td>18.0</td>\n",
       "      <td>1860.0</td>\n",
       "      <td>409.0</td>\n",
       "      <td>741.0</td>\n",
       "      <td>1.8672</td>\n",
       "      <td>84700.0</td>\n",
       "      <td>INLAND</td>\n",
       "      <td>NaN</td>\n",
       "      <td>95972.0</td>\n",
       "      <td>Yuba County</td>\n",
       "      <td>Vierra Road</td>\n",
       "      <td>5.329513</td>\n",
       "      <td>2.0</td>\n",
       "      <td>4.0</td>\n",
       "    </tr>\n",
       "    <tr>\n",
       "      <th>20639</th>\n",
       "      <td>-121.24</td>\n",
       "      <td>39.37</td>\n",
       "      <td>16.0</td>\n",
       "      <td>2785.0</td>\n",
       "      <td>616.0</td>\n",
       "      <td>1387.0</td>\n",
       "      <td>2.3886</td>\n",
       "      <td>89400.0</td>\n",
       "      <td>INLAND</td>\n",
       "      <td>NaN</td>\n",
       "      <td>95962.0</td>\n",
       "      <td>Yuba County</td>\n",
       "      <td>Marysville Road</td>\n",
       "      <td>5.254717</td>\n",
       "      <td>2.0</td>\n",
       "      <td>4.0</td>\n",
       "    </tr>\n",
       "  </tbody>\n",
       "</table>\n",
       "<p>20640 rows × 16 columns</p>\n",
       "</div>"
      ],
      "text/plain": [
       "       longitude  latitude  housing_median_age  total_rooms  total_bedrooms  \\\n",
       "0        -122.23     37.88                41.0        880.0           129.0   \n",
       "1        -122.22     37.86                21.0       7099.0          1106.0   \n",
       "2        -122.24     37.85                52.0       1467.0           190.0   \n",
       "3        -122.25     37.85                52.0       1274.0           235.0   \n",
       "4        -122.25     37.85                52.0       1627.0           280.0   \n",
       "...          ...       ...                 ...          ...             ...   \n",
       "20635    -121.09     39.48                25.0       1665.0           374.0   \n",
       "20636    -121.21     39.49                18.0        697.0           150.0   \n",
       "20637    -121.22     39.43                17.0       2254.0           485.0   \n",
       "20638    -121.32     39.43                18.0       1860.0           409.0   \n",
       "20639    -121.24     39.37                16.0       2785.0           616.0   \n",
       "\n",
       "       population  median_income  median_house_value ocean_proximity     city  \\\n",
       "0           322.0         8.3252            452600.0        NEAR BAY  Oakland   \n",
       "1          2401.0         8.3014            358500.0        NEAR BAY  Oakland   \n",
       "2           496.0         7.2574            352100.0        NEAR BAY  Oakland   \n",
       "3           558.0         5.6431            341300.0        NEAR BAY  Oakland   \n",
       "4           565.0         3.8462            342200.0             NaN  Oakland   \n",
       "...           ...            ...                 ...             ...      ...   \n",
       "20635       845.0         1.5603             78100.0          INLAND      NaN   \n",
       "20636       356.0         2.5568             77100.0          INLAND      NaN   \n",
       "20637      1007.0         1.7000             92300.0          INLAND      NaN   \n",
       "20638       741.0         1.8672             84700.0          INLAND      NaN   \n",
       "20639      1387.0         2.3886             89400.0          INLAND      NaN   \n",
       "\n",
       "       postcode          county                   road  rooms_per_household  \\\n",
       "0       94563.0  Alameda County     Summit House Trail             6.984127   \n",
       "1       94618.0  Alameda County         Kennedy Tunnel             6.238137   \n",
       "2       94618.0  Alameda County  Grove Shafter Freeway             8.288136   \n",
       "3       94168.0  Alameda County          Florio Street             5.817352   \n",
       "4       94168.0  Alameda County          Florio Street             6.281853   \n",
       "...         ...             ...                    ...                  ...   \n",
       "20635   95922.0     Yuba County     Garden Valley Road             5.045455   \n",
       "20636   95925.0     Yuba County          La Porte Road             6.114035   \n",
       "20637   95925.0     Yuba County     Indiana Ranch Road             5.205543   \n",
       "20638   95972.0     Yuba County            Vierra Road             5.329513   \n",
       "20639   95962.0     Yuba County        Marysville Road             5.254717   \n",
       "\n",
       "       number_bedrooms  number_bathrooms  \n",
       "0                  2.0               5.0  \n",
       "1                  1.0               6.0  \n",
       "2                  2.0               7.0  \n",
       "3                  2.0               4.0  \n",
       "4                  2.0               5.0  \n",
       "...                ...               ...  \n",
       "20635              2.0               4.0  \n",
       "20636              2.0               5.0  \n",
       "20637              2.0               4.0  \n",
       "20638              2.0               4.0  \n",
       "20639              2.0               4.0  \n",
       "\n",
       "[20640 rows x 16 columns]"
      ]
     },
     "execution_count": 10,
     "metadata": {},
     "output_type": "execute_result"
    }
   ],
   "source": [
    "print(df.head())\n",
    "remove_feature = ['households']\n",
    "df.drop(remove_feature, axis=1)"
   ]
  },
  {
   "cell_type": "markdown",
   "metadata": {},
   "source": [
    "### Remove NaN rows"
   ]
  },
  {
   "cell_type": "code",
   "execution_count": 11,
   "metadata": {},
   "outputs": [],
   "source": [
    "df.dropna(inplace=True)"
   ]
  },
  {
   "cell_type": "code",
   "execution_count": 12,
   "metadata": {},
   "outputs": [
    {
     "name": "stdout",
     "output_type": "stream",
     "text": [
      "   longitude  latitude  housing_median_age  total_rooms  total_bedrooms  \\\n",
      "0    -122.23     37.88                41.0        880.0           129.0   \n",
      "1    -122.22     37.86                21.0       7099.0          1106.0   \n",
      "2    -122.24     37.85                52.0       1467.0           190.0   \n",
      "3    -122.25     37.85                52.0       1274.0           235.0   \n",
      "6    -122.25     37.84                52.0       2535.0           489.0   \n",
      "\n",
      "   population  households  median_income  median_house_value ocean_proximity  \\\n",
      "0       322.0       126.0         8.3252            452600.0        NEAR BAY   \n",
      "1      2401.0      1138.0         8.3014            358500.0        NEAR BAY   \n",
      "2       496.0       177.0         7.2574            352100.0        NEAR BAY   \n",
      "3       558.0       219.0         5.6431            341300.0        NEAR BAY   \n",
      "6      1094.0       514.0         3.6591            299200.0        NEAR BAY   \n",
      "\n",
      "      city  postcode          county                   road  \\\n",
      "0  Oakland   94563.0  Alameda County     Summit House Trail   \n",
      "1  Oakland   94618.0  Alameda County         Kennedy Tunnel   \n",
      "2  Oakland   94618.0  Alameda County  Grove Shafter Freeway   \n",
      "3  Oakland   94168.0  Alameda County          Florio Street   \n",
      "6  Oakland   94168.0  Alameda County          Bryant Avenue   \n",
      "\n",
      "   rooms_per_household  number_bedrooms  number_bathrooms  \n",
      "0             6.984127              2.0               5.0  \n",
      "1             6.238137              1.0               6.0  \n",
      "2             8.288136              2.0               7.0  \n",
      "3             5.817352              2.0               4.0  \n",
      "6             4.931907              1.0               4.0  \n"
     ]
    }
   ],
   "source": [
    "# View updates to dataset\n",
    "print(df.head())"
   ]
  },
  {
   "cell_type": "markdown",
   "metadata": {},
   "source": [
    "### Remove Outliers"
   ]
  },
  {
   "cell_type": "code",
   "execution_count": 13,
   "metadata": {},
   "outputs": [
    {
     "data": {
      "text/plain": [
       "array([[<AxesSubplot:title={'center':'median_income'}>]], dtype=object)"
      ]
     },
     "execution_count": 13,
     "metadata": {},
     "output_type": "execute_result"
    },
    {
     "data": {
      "image/png": "[encoded data removed]",
      "text/plain": [
       "<Figure size 432x288 with 1 Axes>"
      ]
     },
     "metadata": {
      "needs_background": "light"
     },
     "output_type": "display_data"
    }
   ],
   "source": [
    "# Visualize data features\n",
    "df.hist('median_income')"
   ]
  },
  {
   "cell_type": "code",
   "execution_count": 14,
   "metadata": {},
   "outputs": [
    {
     "name": "stdout",
     "output_type": "stream",
     "text": [
      "The upper bound is 7.9782874999999995\n",
      "The lower bound is -0.7816125\n",
      "The number of outlier removed is 272\n"
     ]
    },
    {
     "data": {
      "text/plain": [
       "array([[<AxesSubplot:title={'center':'median_income'}>]], dtype=object)"
      ]
     },
     "execution_count": 14,
     "metadata": {},
     "output_type": "execute_result"
    },
    {
     "data": {
      "image/png": "[encoded data removed]",
      "text/plain": [
       "<Figure size 432x288 with 1 Axes>"
      ]
     },
     "metadata": {
      "needs_background": "light"
     },
     "output_type": "display_data"
    }
   ],
   "source": [
    "# Remove outliers\n",
    "feature = 'median_income'\n",
    "\n",
    "count = len(df)\n",
    "lower_bound=None\n",
    "upper_bound=None\n",
    "if(feature in df.columns):\n",
    "    Q1 = np.percentile(df[feature], 25, axis=0)\n",
    "    Q3 = np.percentile(df[feature], 75, axis=0)\n",
    "    IQR = Q3 - Q1\n",
    "    upper_bound = Q3 + 1.5*IQR\n",
    "    lower_bound = Q1 - 1.5*IQR\n",
    "    df = df[df[feature]>lower_bound]\n",
    "    df = df[df[feature]<upper_bound]\n",
    "count = count - len(df)\n",
    "print('The upper bound is {}'.format(upper_bound))\n",
    "print('The lower bound is {}'.format(lower_bound))\n",
    "print('The number of outlier removed is {}'.format(count))\n",
    "df.hist('median_income')"
   ]
  },
  {
   "cell_type": "markdown",
   "metadata": {},
   "source": [
    "### Handling Text and Categorical Attributes"
   ]
  },
  {
   "cell_type": "markdown",
   "metadata": {},
   "source": [
    "Let's preprocess categorical data starting with Integer encoding transforms categorical data to integers"
   ]
  },
  {
   "cell_type": "code",
   "execution_count": 15,
   "metadata": {},
   "outputs": [
    {
     "name": "stdout",
     "output_type": "stream",
     "text": [
      "2         NEAR BAY\n",
      "3         NEAR BAY\n",
      "6         NEAR BAY\n",
      "7         NEAR BAY\n",
      "8         NEAR BAY\n",
      "           ...    \n",
      "20501    <1H OCEAN\n",
      "20504    <1H OCEAN\n",
      "20505    <1H OCEAN\n",
      "20506    <1H OCEAN\n",
      "20523       INLAND\n",
      "Name: ocean_proximity, Length: 10412, dtype: object\n",
      "2        2.0\n",
      "3        2.0\n",
      "6        2.0\n",
      "7        2.0\n",
      "8        2.0\n",
      "        ... \n",
      "20501    0.0\n",
      "20504    0.0\n",
      "20505    0.0\n",
      "20506    0.0\n",
      "20523    1.0\n",
      "Name: ocean_proximity, Length: 10412, dtype: float64\n"
     ]
    }
   ],
   "source": [
    "from sklearn.preprocessing import OrdinalEncoder\n",
    "\n",
    "df_ = df.copy()\n",
    "print(df_['ocean_proximity']) # before encoding\n",
    "enc = OrdinalEncoder()\n",
    "df_[['ocean_proximity']] = enc.fit_transform(df_[['ocean_proximity']])\n",
    "print(df_['ocean_proximity']) # after encoding"
   ]
  },
  {
   "cell_type": "code",
   "execution_count": 16,
   "metadata": {},
   "outputs": [],
   "source": [
    "enc = OrdinalEncoder()\n",
    "df[['city']] = enc.fit_transform(df_[['city']])\n",
    "enc = OrdinalEncoder()\n",
    "df[['road']] = enc.fit_transform(df_[['road']])\n",
    "enc = OrdinalEncoder()\n",
    "df[['county']] = enc.fit_transform(df_[['county']])"
   ]
  },
  {
   "cell_type": "markdown",
   "metadata": {},
   "source": [
    "One-hot encoding transforms categorical data to n bits where a unique bit is set to 1 for each category"
   ]
  },
  {
   "cell_type": "code",
   "execution_count": 17,
   "metadata": {},
   "outputs": [
    {
     "name": "stdout",
     "output_type": "stream",
     "text": [
      "   longitude  latitude  housing_median_age  total_rooms  total_bedrooms  \\\n",
      "2    -122.24     37.85                52.0       1467.0           190.0   \n",
      "3    -122.25     37.85                52.0       1274.0           235.0   \n",
      "6    -122.25     37.84                52.0       2535.0           489.0   \n",
      "7    -122.25     37.84                52.0       3104.0           687.0   \n",
      "8    -122.26     37.84                42.0       2555.0           665.0   \n",
      "\n",
      "   population  households  median_income  median_house_value ocean_proximity  \\\n",
      "2       496.0       177.0         7.2574            352100.0        NEAR BAY   \n",
      "3       558.0       219.0         5.6431            341300.0        NEAR BAY   \n",
      "6      1094.0       514.0         3.6591            299200.0        NEAR BAY   \n",
      "7      1157.0       647.0         3.1200            241400.0        NEAR BAY   \n",
      "8      1206.0       595.0         2.0804            226700.0        NEAR BAY   \n",
      "\n",
      "   city  postcode  county    road  rooms_per_household  number_bedrooms  \\\n",
      "2  73.0   94618.0     0.0  1648.0             8.288136              2.0   \n",
      "3  73.0   94168.0     0.0  1473.0             5.817352              2.0   \n",
      "6  73.0   94168.0     0.0   498.0             4.931907              1.0   \n",
      "7  73.0   94168.0     0.0   498.0             4.797527              2.0   \n",
      "8  73.0   94609.0     0.0   759.0             4.294118              2.0   \n",
      "\n",
      "   number_bathrooms  \n",
      "2               7.0  \n",
      "3               4.0  \n",
      "6               4.0  \n",
      "7               3.0  \n",
      "8               3.0  \n",
      "   longitude  latitude  housing_median_age  total_rooms  total_bedrooms  \\\n",
      "2    -122.24     37.85                52.0       1467.0           190.0   \n",
      "3    -122.25     37.85                52.0       1274.0           235.0   \n",
      "6    -122.25     37.84                52.0       2535.0           489.0   \n",
      "7    -122.25     37.84                52.0       3104.0           687.0   \n",
      "8    -122.26     37.84                42.0       2555.0           665.0   \n",
      "\n",
      "   population  households  median_income  median_house_value  city  postcode  \\\n",
      "2       496.0       177.0         7.2574            352100.0  73.0   94618.0   \n",
      "3       558.0       219.0         5.6431            341300.0  73.0   94168.0   \n",
      "6      1094.0       514.0         3.6591            299200.0  73.0   94168.0   \n",
      "7      1157.0       647.0         3.1200            241400.0  73.0   94168.0   \n",
      "8      1206.0       595.0         2.0804            226700.0  73.0   94609.0   \n",
      "\n",
      "   county    road  rooms_per_household  number_bedrooms  number_bathrooms  \\\n",
      "2     0.0  1648.0             8.288136              2.0               7.0   \n",
      "3     0.0  1473.0             5.817352              2.0               4.0   \n",
      "6     0.0   498.0             4.931907              1.0               4.0   \n",
      "7     0.0   498.0             4.797527              2.0               3.0   \n",
      "8     0.0   759.0             4.294118              2.0               3.0   \n",
      "\n",
      "   ocean_proximity_<1H OCEAN  ocean_proximity_INLAND  \\\n",
      "2                          0                       0   \n",
      "3                          0                       0   \n",
      "6                          0                       0   \n",
      "7                          0                       0   \n",
      "8                          0                       0   \n",
      "\n",
      "   ocean_proximity_NEAR BAY  ocean_proximity_NEAR OCEAN  \n",
      "2                         1                           0  \n",
      "3                         1                           0  \n",
      "6                         1                           0  \n",
      "7                         1                           0  \n",
      "8                         1                           0  \n"
     ]
    }
   ],
   "source": [
    "print(df.head())\n",
    "df = pd.get_dummies(df, columns = ['ocean_proximity']) # one-hot encoding\n",
    "# View updates to dataset\n",
    "print(df.head())"
   ]
  },
  {
   "cell_type": "markdown",
   "metadata": {},
   "source": [
    "# Create some new features"
   ]
  },
  {
   "cell_type": "markdown",
   "metadata": {},
   "source": [
    "Although we often think of multiple regression as including multiple different features (e.g. # of bedrooms, squarefeet, and # of bathrooms) but we can also consider transformations of existing features e.g. the log of the squarefeet or even \"interaction\" features such as the product of bedrooms and bathrooms."
   ]
  },
  {
   "cell_type": "markdown",
   "metadata": {},
   "source": [
    "You will use the logarithm function to create a new feature. so first you should import it from the math library."
   ]
  },
  {
   "cell_type": "markdown",
   "metadata": {},
   "source": [
    "Next create the following new features as column in both TEST and TRAIN data:\n",
    "* total_rooms_squared = total_rooms\\*total_rooms\n",
    "* age_bath_rooms = housing_median_age\\*total_bedrooms\n",
    "As an example here's the first two:"
   ]
  },
  {
   "cell_type": "code",
   "execution_count": 18,
   "metadata": {},
   "outputs": [],
   "source": [
    "# bedrooms_squared = bedrooms*bedrooms\n",
    "df['total_rooms_squared'] = df['total_rooms'].apply(lambda x:x**2)\n",
    "\n",
    "# age_bathrooms = housing_age_bedrooms\n",
    "def multiply_data(value_1, value_2):\n",
    "    return value_1 * value_2\n",
    "\n",
    "df['age_bath_rooms'] = df.apply(lambda x: multiply_data(x['housing_median_age'],x['total_bedrooms']),axis=1)"
   ]
  },
  {
   "cell_type": "markdown",
   "metadata": {},
   "source": [
    "Create the following new features:\n",
    "* log_population = log(population)\n",
    "* lat_plus_long = lat + long \n",
    "* rooms_per_household = total_rooms/households\n",
    "* number_bedrooms = total_bedrooms/households\n",
    "* number_bathrooms = rooms_per_household - number_bedrooms\n",
    "* bedrooms_per_room = total_bedrooms/total_rooms\n",
    "* population_per_household = population/households\n",
    "* age_rooms_per_household = housing_median_age*rooms_per_household"
   ]
  },
  {
   "cell_type": "code",
   "execution_count": 19,
   "metadata": {},
   "outputs": [],
   "source": [
    "df[\"rooms_per_household\"] = df[\"total_rooms\"]/df[\"households\"]\n",
    "df[\"number_bedrooms\"] = (df[\"total_bedrooms\"]/df[\"households\"]).apply(np.ceil)\n",
    "df[\"number_bathrooms\"] = (df[\"rooms_per_household\"] - df[\"number_bedrooms\"]).apply(np.ceil)\n",
    "df.to_csv('../datasets/housing/housing_paml_hw2_updated.csv')"
   ]
  },
  {
   "cell_type": "code",
   "execution_count": 20,
   "metadata": {},
   "outputs": [
    {
     "name": "stdout",
     "output_type": "stream",
     "text": [
      "   longitude  latitude  housing_median_age  total_rooms  total_bedrooms  \\\n",
      "2    -122.24     37.85                52.0       1467.0           190.0   \n",
      "3    -122.25     37.85                52.0       1274.0           235.0   \n",
      "6    -122.25     37.84                52.0       2535.0           489.0   \n",
      "7    -122.25     37.84                52.0       3104.0           687.0   \n",
      "8    -122.26     37.84                42.0       2555.0           665.0   \n",
      "\n",
      "   population  households  median_income  median_house_value  city  ...  \\\n",
      "2       496.0       177.0         7.2574            352100.0  73.0  ...   \n",
      "3       558.0       219.0         5.6431            341300.0  73.0  ...   \n",
      "6      1094.0       514.0         3.6591            299200.0  73.0  ...   \n",
      "7      1157.0       647.0         3.1200            241400.0  73.0  ...   \n",
      "8      1206.0       595.0         2.0804            226700.0  73.0  ...   \n",
      "\n",
      "   ocean_proximity_INLAND  ocean_proximity_NEAR BAY  \\\n",
      "2                       0                         1   \n",
      "3                       0                         1   \n",
      "6                       0                         1   \n",
      "7                       0                         1   \n",
      "8                       0                         1   \n",
      "\n",
      "   ocean_proximity_NEAR OCEAN  total_rooms_squared  age_bath_rooms  \\\n",
      "2                           0            2152089.0          9880.0   \n",
      "3                           0            1623076.0         12220.0   \n",
      "6                           0            6426225.0         25428.0   \n",
      "7                           0            9634816.0         35724.0   \n",
      "8                           0            6528025.0         27930.0   \n",
      "\n",
      "   log_population  lat_plus_long  bedrooms_per_room  population_per_household  \\\n",
      "2        6.206576     -4626.7840           0.129516                  2.802260   \n",
      "3        6.324359     -4627.1625           0.184458                  2.547945   \n",
      "6        6.997596     -4625.9400           0.192899                  2.128405   \n",
      "7        7.053586     -4625.9400           0.221327                  1.788253   \n",
      "8        7.095064     -4626.3184           0.260274                  2.026891   \n",
      "\n",
      "   age_rooms_per_household  \n",
      "2               430.983051  \n",
      "3               302.502283  \n",
      "6               256.459144  \n",
      "7               249.471406  \n",
      "8               180.352941  \n",
      "\n",
      "[5 rows x 27 columns]\n"
     ]
    }
   ],
   "source": [
    "# Activity \n",
    "# [Ans]\n",
    "df['log_population'] = df['population'].apply(lambda x: np.log(x))\n",
    "\n",
    "def add_data(value_1, value_2):\n",
    "    return value_1 + value_2\n",
    "\n",
    "df['lat_plus_long'] = df.apply(lambda x: multiply_data(x['longitude'],x['latitude']),axis=1)\n",
    "df[\"rooms_per_household\"] = df[\"total_rooms\"]/df[\"households\"]\n",
    "df[\"number_bedrooms\"] = (df[\"total_bedrooms\"]/df[\"households\"]).apply(np.ceil)\n",
    "df[\"number_bathrooms\"] = (df[\"rooms_per_household\"] - df[\"number_bedrooms\"]).apply(np.ceil)\n",
    "df[\"bedrooms_per_room\"] = df[\"total_bedrooms\"]/df[\"total_rooms\"]\n",
    "df[\"population_per_household\"]=df[\"population\"]/df[\"households\"]\n",
    "df['age_rooms_per_household' ] = multiply_data(df['housing_median_age'],df['rooms_per_household'])\n",
    "print(df.head())"
   ]
  },
  {
   "cell_type": "code",
   "execution_count": 21,
   "metadata": {},
   "outputs": [
    {
     "data": {
      "image/png": "[encoded data removed]",
      "text/plain": [
       "<Figure size 1440x1080 with 30 Axes>"
      ]
     },
     "metadata": {
      "needs_background": "light"
     },
     "output_type": "display_data"
    }
   ],
   "source": [
    "%matplotlib inline\n",
    "import matplotlib.pyplot as plt\n",
    "df.hist(bins=50, figsize=(20,15))\n",
    "plt.show()"
   ]
  },
  {
   "cell_type": "code",
   "execution_count": 22,
   "metadata": {},
   "outputs": [
    {
     "data": {
      "image/png": "[encoded data removed]",
      "text/plain": [
       "<Figure size 432x288 with 4 Axes>"
      ]
     },
     "metadata": {
      "needs_background": "light"
     },
     "output_type": "display_data"
    }
   ],
   "source": [
    "features = ['number_bedrooms','number_bathrooms']\n",
    "fig = scatter_matrix(df[features], figsize=(6, 4))\n",
    "plt.show(fig[0][0].get_figure())"
   ]
  },
  {
   "cell_type": "markdown",
   "metadata": {},
   "source": [
    "Select input/output for regression"
   ]
  },
  {
   "cell_type": "code",
   "execution_count": 23,
   "metadata": {},
   "outputs": [],
   "source": [
    "X, y = df.loc[:, ~df.columns.isin(['median_house_value'])], df.loc[:, df.columns.isin(['median_house_value'])]"
   ]
  },
  {
   "cell_type": "markdown",
   "metadata": {},
   "source": [
    "Split data into train and test sets using train_test_split to randomly shuffle the data"
   ]
  },
  {
   "cell_type": "code",
   "execution_count": 24,
   "metadata": {},
   "outputs": [],
   "source": [
    "X_train, X_test, y_train, y_test = train_test_split(X, y, test_size=0.33, random_state=42)"
   ]
  },
  {
   "cell_type": "code",
   "execution_count": 25,
   "metadata": {},
   "outputs": [
    {
     "data": {
      "text/plain": [
       "((6976, 26), (3436, 26), (6976, 1), (3436, 1))"
      ]
     },
     "execution_count": 25,
     "metadata": {},
     "output_type": "execute_result"
    }
   ],
   "source": [
    "X_train.shape, X_test.shape, y_train.shape, y_test.shape"
   ]
  },
  {
   "cell_type": "markdown",
   "metadata": {},
   "source": [
    "# Training Regression Models"
   ]
  },
  {
   "cell_type": "markdown",
   "metadata": {},
   "source": [
    "## Evaluation Metrics"
   ]
  },
  {
   "cell_type": "markdown",
   "metadata": {},
   "source": [
    "Compute RMSA, MAE, and R2 on actual and predicted housing prices"
   ]
  },
  {
   "cell_type": "code",
   "execution_count": 26,
   "metadata": {},
   "outputs": [],
   "source": [
    "from sklearn.metrics import mean_squared_error, r2_score, mean_absolute_error\n",
    "\n",
    "def print_info(mode, y_true, y_pred, print_results=True):\n",
    "    rmse = np.sqrt(mean_squared_error(y_true, y_pred, squared=False))\n",
    "    mae = mean_absolute_error(y_true, y_pred)\n",
    "    r2 = r2_score(y_true, y_pred)\n",
    "    if(print_results):\n",
    "        print(mode + \": RMSE: {0}, MAE: {1}, R2: {2}\".format(rmse,mae,r2))\n",
    "    return rmse, mae, r2"
   ]
  },
  {
   "cell_type": "markdown",
   "metadata": {},
   "source": [
    "Compute evaluation metrics on training and validation sets. Note: directly compute RMSE directly by calling the mean_squared_error() function with squared=False."
   ]
  },
  {
   "cell_type": "code",
   "execution_count": 27,
   "metadata": {},
   "outputs": [],
   "source": [
    "X_train, X_val, y_train, y_val = train_test_split(X, y, test_size=0.2, random_state=10)\n",
    "\n",
    "from sklearn.model_selection import train_test_split\n",
    "\n",
    "def plot_learning_curves(model, X_train, y_train):\n",
    "    train_rmse_errors, train_mae_errors, train_r2_errors = [], [], []\n",
    "    val_rmse_errors, val_mae_errors, val_r2_errors = [], [], []\n",
    "    for m in range(1, len(X_train) + 1, 15):\n",
    "        model.fit(X_train[:m], y_train[:m])\n",
    "        y_train_predict = model.predict(X_train[:m])\n",
    "        y_val_predict = model.predict(X_val)\n",
    "        \n",
    "        train_rmse, train_mae, train_r2 = print_info(\"test\", y_train[:m], y_train_predict, print_results=False)\n",
    "        train_rmse_errors.append(train_rmse)\n",
    "        train_mae_errors.append(train_mae)\n",
    "        train_r2_errors.append(train_r2)\n",
    "        \n",
    "        val_rmse, val_mae, val_r2 = print_info(\"test\", y_val, y_val_predict, print_results=False)\n",
    "        val_rmse_errors.append(val_rmse)\n",
    "        val_mae_errors.append(val_mae)\n",
    "        val_r2_errors.append(val_r2)\n",
    "    result = {'train_rmse_errors':train_rmse_errors, \n",
    "           'train_mae_errors':train_mae_errors, \n",
    "           'train_r2_errors':train_r2_errors, \n",
    "           'val_rmse_errors':val_rmse_errors, \n",
    "           'val_mae_errors':val_mae_errors, \n",
    "           'val_r2_errors':val_r2_errors}\n",
    "    return result "
   ]
  },
  {
   "cell_type": "markdown",
   "metadata": {},
   "source": [
    "Plot learning curves on training and validation datasets"
   ]
  },
  {
   "cell_type": "code",
   "execution_count": 28,
   "metadata": {},
   "outputs": [],
   "source": [
    "def plot_lc_figures(error1, error2, metric=''):\n",
    "    plt.plot(error1, \"r-+\", linewidth=2, label=\"train\")\n",
    "    plt.plot(error2, \"b-\", linewidth=3, label=\"val\")\n",
    "    plt.legend(loc=\"upper right\", fontsize=14)   # not shown in the book\n",
    "    plt.xlabel(\"Training set size\", fontsize=14) # not shown\n",
    "    plt.ylabel(str(metric).upper(), fontsize=14)              # not shown"
   ]
  },
  {
   "cell_type": "markdown",
   "metadata": {},
   "source": [
    "## Learning Single Models "
   ]
  },
  {
   "cell_type": "markdown",
   "metadata": {},
   "source": [
    "Train a simple liinear regression model using total_rooms to predict housing prices"
   ]
  },
  {
   "cell_type": "code",
   "execution_count": 29,
   "metadata": {},
   "outputs": [],
   "source": [
    "from sklearn.linear_model import LinearRegression\n",
    "\n",
    "single_reg_feature = ['total_rooms']\n",
    "single_reg_model = LinearRegression().fit(X_train[single_reg_feature], y_train)"
   ]
  },
  {
   "cell_type": "markdown",
   "metadata": {},
   "source": [
    "Now that you trained a model, evaluate the model on training data"
   ]
  },
  {
   "cell_type": "code",
   "execution_count": 30,
   "metadata": {},
   "outputs": [
    {
     "name": "stdout",
     "output_type": "stream",
     "text": [
      "train: RMSE: 317.8860903093989, MAE: 78802.11878650637, R2: 0.010930141784851188\n"
     ]
    },
    {
     "data": {
      "text/plain": [
       "(317.8860903093989, 78802.11878650637, 0.010930141784851188)"
      ]
     },
     "execution_count": 30,
     "metadata": {},
     "output_type": "execute_result"
    }
   ],
   "source": [
    "single_reg_train_pred = single_reg_model.predict(X_train[single_reg_feature])\n",
    "print_info(\"train\", y_train, single_reg_train_pred)"
   ]
  },
  {
   "cell_type": "code",
   "execution_count": 31,
   "metadata": {},
   "outputs": [
    {
     "data": {
      "text/plain": [
       "[<matplotlib.lines.Line2D at 0x7fa3a918afd0>,\n",
       " <matplotlib.lines.Line2D at 0x7fa3a918a850>]"
      ]
     },
     "execution_count": 31,
     "metadata": {},
     "output_type": "execute_result"
    },
    {
     "data": {
      "image/png": "[encoded data removed]",
      "text/plain": [
       "<Figure size 432x288 with 1 Axes>"
      ]
     },
     "metadata": {
      "needs_background": "light"
     },
     "output_type": "display_data"
    }
   ],
   "source": [
    "plt.plot(X_train[single_reg_feature], y_train, '.',\n",
    "         X_train[single_reg_feature], single_reg_model.predict(X_train[single_reg_feature]), '-')"
   ]
  },
  {
   "cell_type": "markdown",
   "metadata": {},
   "source": [
    "Now that you trained a model, evaluate the model on test data"
   ]
  },
  {
   "cell_type": "code",
   "execution_count": 32,
   "metadata": {},
   "outputs": [
    {
     "name": "stdout",
     "output_type": "stream",
     "text": [
      "test: RMSE: 316.7941751619853, MAE: 78077.03002502566, R2: 0.01622994961840618\n"
     ]
    },
    {
     "data": {
      "text/plain": [
       "(316.7941751619853, 78077.03002502566, 0.01622994961840618)"
      ]
     },
     "execution_count": 32,
     "metadata": {},
     "output_type": "execute_result"
    }
   ],
   "source": [
    "single_reg_test_pred = single_reg_model.predict(X_test[single_reg_feature])\n",
    "print_info(\"test\", y_test, single_reg_test_pred)"
   ]
  },
  {
   "cell_type": "code",
   "execution_count": 33,
   "metadata": {},
   "outputs": [
    {
     "data": {
      "text/plain": [
       "[<matplotlib.lines.Line2D at 0x7fa398bdddf0>,\n",
       " <matplotlib.lines.Line2D at 0x7fa398bddd00>]"
      ]
     },
     "execution_count": 33,
     "metadata": {},
     "output_type": "execute_result"
    },
    {
     "data": {
      "image/png": "[encoded data removed]",
      "text/plain": [
       "<Figure size 432x288 with 1 Axes>"
      ]
     },
     "metadata": {
      "needs_background": "light"
     },
     "output_type": "display_data"
    }
   ],
   "source": [
    "plt.plot(X_test[single_reg_feature], y_test, '.',\n",
    "         X_test[single_reg_feature], single_reg_model.predict(X_test[single_reg_feature]), '-')"
   ]
  },
  {
   "cell_type": "markdown",
   "metadata": {},
   "source": [
    "Now that we have fitted the model we can inspect the regression weights (coefficients) as follows:"
   ]
  },
  {
   "cell_type": "code",
   "execution_count": 34,
   "metadata": {},
   "outputs": [
    {
     "name": "stdout",
     "output_type": "stream",
     "text": [
      "[[4.86398186]]\n",
      "[187799.59133503]\n"
     ]
    }
   ],
   "source": [
    "# Inspect coefficients\n",
    "print(single_reg_model.coef_)\n",
    "print(single_reg_model.intercept_)"
   ]
  },
  {
   "cell_type": "markdown",
   "metadata": {},
   "source": [
    "## Learning Multiple Models "
   ]
  },
  {
   "cell_type": "markdown",
   "metadata": {},
   "source": [
    "Now that you have the features, learn the weights for the three different models for predicting median_house_value using multiple regression, test the model, and look at the value of the weights/coefficients:"
   ]
  },
  {
   "cell_type": "code",
   "execution_count": 35,
   "metadata": {},
   "outputs": [],
   "source": [
    "multiple_reg_features = ['bedrooms_per_room','rooms_per_household']\n",
    "multiple_reg_model = LinearRegression().fit(X_train[multiple_reg_features], y_train)"
   ]
  },
  {
   "cell_type": "markdown",
   "metadata": {},
   "source": [
    "Now that you have trained the model, let's explore model performance on the training data."
   ]
  },
  {
   "cell_type": "code",
   "execution_count": 36,
   "metadata": {},
   "outputs": [
    {
     "name": "stdout",
     "output_type": "stream",
     "text": [
      "train: RMSE: 313.52231053279445, MAE: 75707.97011205397, R2: 0.06413184150243256\n"
     ]
    },
    {
     "data": {
      "text/plain": [
       "(313.52231053279445, 75707.97011205397, 0.06413184150243256)"
      ]
     },
     "execution_count": 36,
     "metadata": {},
     "output_type": "execute_result"
    }
   ],
   "source": [
    "multiple_reg_train_pred = multiple_reg_model.predict(X_train[multiple_reg_features])\n",
    "print_info(\"train\", y_train, multiple_reg_train_pred)"
   ]
  },
  {
   "cell_type": "markdown",
   "metadata": {},
   "source": [
    "Now that you have evaluated the model on the training data, let's explore how the model generalizes to new examples."
   ]
  },
  {
   "cell_type": "code",
   "execution_count": 37,
   "metadata": {},
   "outputs": [
    {
     "name": "stdout",
     "output_type": "stream",
     "text": [
      "test: RMSE: 311.92916000985525, MAE: 74970.02003885679, R2: 0.07528319759697522\n"
     ]
    },
    {
     "data": {
      "text/plain": [
       "(311.92916000985525, 74970.02003885679, 0.07528319759697522)"
      ]
     },
     "execution_count": 37,
     "metadata": {},
     "output_type": "execute_result"
    }
   ],
   "source": [
    "multiple_reg_test_pred = multiple_reg_model.predict(X_test[multiple_reg_features])\n",
    "print_info(\"test\", y_test, multiple_reg_test_pred)"
   ]
  },
  {
   "cell_type": "markdown",
   "metadata": {},
   "source": [
    "Now that we have fitted the model we can extract the regression weights (coefficients) as follows:"
   ]
  },
  {
   "cell_type": "code",
   "execution_count": 38,
   "metadata": {},
   "outputs": [
    {
     "name": "stdout",
     "output_type": "stream",
     "text": [
      "[[161153.32728762  27950.62451825]]\n",
      "[24712.17711479]\n"
     ]
    }
   ],
   "source": [
    "# Inspect coefficients\n",
    "print(multiple_reg_model.coef_)\n",
    "print(multiple_reg_model.intercept_)"
   ]
  },
  {
   "cell_type": "code",
   "execution_count": 39,
   "metadata": {},
   "outputs": [
    {
     "name": "stderr",
     "output_type": "stream",
     "text": [
      "/Users/angeliquetaylor/opt/anaconda3/lib/python3.8/site-packages/sklearn/metrics/_regression.py:682: UndefinedMetricWarning: R^2 score is not well-defined with less than two samples.\n",
      "  warnings.warn(msg, UndefinedMetricWarning)\n"
     ]
    },
    {
     "data": {
      "image/png": "[encoded data removed]",
      "text/plain": [
       "<Figure size 432x288 with 1 Axes>"
      ]
     },
     "metadata": {
      "needs_background": "light"
     },
     "output_type": "display_data"
    }
   ],
   "source": [
    "errors  = plot_learning_curves(multiple_reg_model, X_train, y_train)\n",
    "plot_lc_figures(errors['train_rmse_errors'][400:], errors['val_rmse_errors'][400:], metric='')"
   ]
  },
  {
   "cell_type": "code",
   "execution_count": 40,
   "metadata": {},
   "outputs": [
    {
     "data": {
      "image/png": "[encoded data removed]",
      "text/plain": [
       "<Figure size 432x288 with 1 Axes>"
      ]
     },
     "metadata": {
      "needs_background": "light"
     },
     "output_type": "display_data"
    }
   ],
   "source": [
    "plot_lc_figures(errors['train_mae_errors'][400:], errors['val_mae_errors'][400:], metric='MAE')"
   ]
  },
  {
   "cell_type": "code",
   "execution_count": 96,
   "metadata": {},
   "outputs": [
    {
     "data": {
      "image/png": "[encoded data removed]",
      "text/plain": [
       "<Figure size 432x288 with 1 Axes>"
      ]
     },
     "metadata": {
      "needs_background": "light"
     },
     "output_type": "display_data"
    }
   ],
   "source": [
    "plot_lc_figures(errors['train_r2_errors'][400:], errors['val_r2_errors'][400:], metric='MAE')"
   ]
  },
  {
   "cell_type": "markdown",
   "metadata": {},
   "source": [
    "# Learning Multiple Models"
   ]
  },
  {
   "cell_type": "markdown",
   "metadata": {},
   "source": [
    "Now we will learn the weights for three (nested) models for predicting house prices. The first model will have the fewest features the second model will add one more feature and the third will add a few more:\n",
    "* Model 1: 'total_rooms_squared', 'rooms_per_household', 'latitude', 'longitude'\n",
    "* Model 2: add 'age_rooms_per_household', 'log_population'\n",
    "* Model 3: Add 'median_income', 'lat_plus_long','bedrooms_per_room','population_per_household'"
   ]
  },
  {
   "cell_type": "code",
   "execution_count": 42,
   "metadata": {},
   "outputs": [],
   "source": [
    "model_1_features = ['total_rooms_squared', 'rooms_per_household', 'latitude', 'longitude']\n",
    "model_2_features = model_1_features + ['age_rooms_per_household', 'log_population']\n",
    "model_3_features = model_2_features + ['median_income', 'lat_plus_long','bedrooms_per_room','population_per_household']"
   ]
  },
  {
   "cell_type": "markdown",
   "metadata": {},
   "source": [
    "Notes: \n",
    "* Squaring rooms_per_household will increase the separation between not many rooms (e.g. 1) and lots of rooms (e.g. 4) since 1^2 = 1 but 4^2 = 16. Consequently this feature will mostly affect houses with many rooms per household.\n",
    "* House age times rooms_per_household gives what's called an \"interaction\" feature. It is large when *both* of them are large.\n",
    "* Taking the log of population has the effect of bringing large values closer together and spreading out small values.\n",
    "* Adding latitude to longitude is totally non-sensical but we will do it anyway (you'll see why)"
   ]
  },
  {
   "cell_type": "code",
   "execution_count": 43,
   "metadata": {},
   "outputs": [],
   "source": [
    "# Activity: Fit three models\n",
    "# [Ans]\n",
    "multiple_reg_model1 = LinearRegression().fit(X_train[model_1_features], y_train)\n",
    "multiple_reg_model2 = LinearRegression().fit(X_train[model_2_features], y_train)\n",
    "multiple_reg_model3 = LinearRegression().fit(X_train[model_3_features], y_train)"
   ]
  },
  {
   "cell_type": "code",
   "execution_count": 44,
   "metadata": {},
   "outputs": [],
   "source": [
    "# Activity: Evaluate models\n",
    "# [Ans]\n",
    "multiple_reg_train_pred1 = multiple_reg_model1.predict(X_train[model_1_features])\n",
    "multiple_reg_train_pred2 = multiple_reg_model2.predict(X_train[model_2_features])\n",
    "multiple_reg_train_pred3 = multiple_reg_model3.predict(X_train[model_3_features])"
   ]
  },
  {
   "cell_type": "code",
   "execution_count": 45,
   "metadata": {},
   "outputs": [
    {
     "name": "stdout",
     "output_type": "stream",
     "text": [
      "Model 1 coefficients: [[ 3.89451516e-05  2.60058830e+04 -9.10859872e+04 -8.87760936e+04]]\n",
      "Model 2 coefficients: [[ 1.07016524e-04  2.45839882e+04 -9.05671155e+04 -8.79153400e+04\n",
      "   5.54484400e+01 -6.40002918e+03]]\n",
      "Model 3 coefficients: [[ 1.01670253e-04  2.80259535e+03  1.18507405e+05 -1.01262337e+05\n",
      "   2.14305070e+02 -4.77919851e+03  4.61988800e+04  1.42423830e+03\n",
      "   5.05531204e+05 -5.53152167e+02]]\n"
     ]
    }
   ],
   "source": [
    "# Activity: Examine/extract each model's coefficients:\n",
    "# [Ans]\n",
    "print(\"Model 1 coefficients: {}\".format(multiple_reg_model1.coef_))\n",
    "print(\"Model 2 coefficients: {}\".format(multiple_reg_model2.coef_))\n",
    "print(\"Model 3 coefficients: {}\".format(multiple_reg_model3.coef_))"
   ]
  },
  {
   "cell_type": "markdown",
   "metadata": {},
   "source": [
    "**Discussion Question: What is the sign (positive or negative) for the coefficient/weight for 'rooms_per_household' in model 1?**\n",
    "\n",
    "[Ans] The coefficient for rooms_per_household in model 1 is 8.26e+03 (positive). \n",
    "\n",
    "**Discussion Question: What is the sign (positive or negative) for the coefficient/weight for 'rooms_per_household' in model 2?**\n",
    "\n",
    "[Ans] The coefficient for rooms_per_household in model 3 is -1.84e+03 (negative).\n",
    "\n",
    "Think about what this means."
   ]
  },
  {
   "cell_type": "markdown",
   "metadata": {},
   "source": [
    "Use your functions from earlier to compute the RMSE, MAE, and R2 score on TRAINING Data for each of the three models."
   ]
  },
  {
   "cell_type": "code",
   "execution_count": 46,
   "metadata": {},
   "outputs": [
    {
     "name": "stdout",
     "output_type": "stream",
     "text": [
      "train model 1: RMSE: 287.95365913571015, MAE: 61055.61856758375, R2: 0.3340658699410789\n",
      "train model 2: RMSE: 287.5764336121932, MAE: 60991.97650201032, R2: 0.3375485713169156\n",
      "train model 3: RMSE: 263.1266905853337, MAE: 49992.04019664108, R2: 0.535698078286353\n"
     ]
    },
    {
     "data": {
      "text/plain": [
       "(263.1266905853337, 49992.04019664108, 0.535698078286353)"
      ]
     },
     "execution_count": 46,
     "metadata": {},
     "output_type": "execute_result"
    }
   ],
   "source": [
    "# Activity: Evaluate models on training data\n",
    "# [Ans]\n",
    "print_info(\"train model 1\", y_train, multiple_reg_train_pred1)\n",
    "print_info(\"train model 2\", y_train, multiple_reg_train_pred2)\n",
    "print_info(\"train model 3\", y_train, multiple_reg_train_pred3)"
   ]
  },
  {
   "cell_type": "markdown",
   "metadata": {},
   "source": [
    "**Discussion Question: Which model (1, 2 or 3) has lowest RMSE, MAE, and R2 score  on TRAINING Data?** Is this what you expected?"
   ]
  },
  {
   "cell_type": "markdown",
   "metadata": {},
   "source": [
    "Now compute the RMSE, MAE, and R2 on on TEST data for each of the three models."
   ]
  },
  {
   "cell_type": "code",
   "execution_count": 47,
   "metadata": {},
   "outputs": [
    {
     "name": "stdout",
     "output_type": "stream",
     "text": [
      "test model 1: RMSE: 288.3350754465829, MAE: 61486.64720850918, R2: 0.32488967025967386\n",
      "test model 2: RMSE: 288.171086355504, MAE: 61578.236184896465, R2: 0.3264242225960561\n",
      "test model 3: RMSE: 262.3036384353329, MAE: 50098.282478270965, R2: 0.5376167372811538\n"
     ]
    },
    {
     "data": {
      "text/plain": [
       "(262.3036384353329, 50098.282478270965, 0.5376167372811538)"
      ]
     },
     "execution_count": 47,
     "metadata": {},
     "output_type": "execute_result"
    }
   ],
   "source": [
    "# Activity \n",
    "# [Ans]\n",
    "multiple_reg_test_pred1 = multiple_reg_model1.predict(X_test[model_1_features])\n",
    "multiple_reg_test_pred2 = multiple_reg_model2.predict(X_test[model_2_features])\n",
    "multiple_reg_test_pred3 = multiple_reg_model3.predict(X_test[model_3_features])\n",
    "\n",
    "print_info(\"test model 1\", y_test, multiple_reg_test_pred1)\n",
    "print_info(\"test model 2\", y_test, multiple_reg_test_pred2)\n",
    "print_info(\"test model 3\", y_test, multiple_reg_test_pred3)"
   ]
  },
  {
   "cell_type": "markdown",
   "metadata": {},
   "source": [
    "**Discusson Question: Which model (1, 2 or 3) has lowest RMSE, MAE, and R2 on TESTING Data?** Is this what you expected? Think about the features that were added to each model from the previous."
   ]
  },
  {
   "cell_type": "markdown",
   "metadata": {},
   "source": [
    "## Learning Polynomial Models "
   ]
  },
  {
   "cell_type": "code",
   "execution_count": 48,
   "metadata": {},
   "outputs": [],
   "source": [
    "from sklearn.preprocessing import PolynomialFeatures"
   ]
  },
  {
   "cell_type": "markdown",
   "metadata": {},
   "source": [
    "There are two options for training regression models. \n",
    "- Option 1: Step by step: normalize or standardize features, compute the squared polynomial on the features\n",
    "- Option 2: Use a Transformation pipeline to perform Option 1 in one step"
   ]
  },
  {
   "cell_type": "code",
   "execution_count": 49,
   "metadata": {},
   "outputs": [],
   "source": [
    "# Option 1\n",
    "\n",
    "# Scale features between 0 and 1\n",
    "scaler = StandardScaler()\n",
    "X_train_scaler = scaler.fit_transform(X_train)\n",
    "X_test_scaler = scaler.fit_transform(X_test)\n",
    "\n",
    "# Create polynomial features --> features^2\n",
    "poly_features = PolynomialFeatures(degree=3, include_bias=False)\n",
    "\n",
    "# Transform scaled, polynomial features\n",
    "X_poly_train = poly_features.fit_transform(X_train_scaler)\n",
    "X_poly_test = poly_features.transform(X_test_scaler)\n",
    "\n",
    "# Fit the model to data\n",
    "poly_reg_model = LinearRegression().fit(X_poly_train, y_train)"
   ]
  },
  {
   "cell_type": "code",
   "execution_count": 50,
   "metadata": {},
   "outputs": [
    {
     "data": {
      "text/plain": [
       "\"poly_reg_model = Pipeline([('scaler', StandardScaler()), \\n                           ('poly', PolynomialFeatures(degree=3, include_bias=False)), \\n                           ('polyReg', LinearRegression())])\\npoly_reg_model.fit(X_train, y_train)\""
      ]
     },
     "execution_count": 50,
     "metadata": {},
     "output_type": "execute_result"
    }
   ],
   "source": [
    "# Option 2\n",
    "\n",
    "'''poly_reg_model = Pipeline([('scaler', StandardScaler()), \n",
    "                           ('poly', PolynomialFeatures(degree=3, include_bias=False)), \n",
    "                           ('polyReg', LinearRegression())])\n",
    "poly_reg_model.fit(X_train, y_train)'''"
   ]
  },
  {
   "cell_type": "markdown",
   "metadata": {},
   "source": [
    "Now that you have the features, learn the weights for the three different models for predicting median_house_value using polynomial regression, test the model, and look at the value of the weights/coefficients:"
   ]
  },
  {
   "cell_type": "code",
   "execution_count": 51,
   "metadata": {},
   "outputs": [
    {
     "name": "stdout",
     "output_type": "stream",
     "text": [
      "train: RMSE: 182.94896464091298, MAE: 23068.941267734237, R2: 0.891492266709869\n"
     ]
    },
    {
     "data": {
      "text/plain": [
       "(182.94896464091298, 23068.941267734237, 0.891492266709869)"
      ]
     },
     "execution_count": 51,
     "metadata": {},
     "output_type": "execute_result"
    }
   ],
   "source": [
    "poly_reg_train_pred = poly_reg_model.predict(X_poly_train)\n",
    "print_info(\"train\", y_train, poly_reg_train_pred)"
   ]
  },
  {
   "cell_type": "markdown",
   "metadata": {},
   "source": [
    "Now that you have evlauated the model on the training data, let's explore how the model generalizes to new examples."
   ]
  },
  {
   "cell_type": "code",
   "execution_count": 52,
   "metadata": {},
   "outputs": [
    {
     "name": "stdout",
     "output_type": "stream",
     "text": [
      "test: RMSE: 14576.400605284094, MAE: 63796014.96255754, R2: -4409465.305992471\n"
     ]
    },
    {
     "data": {
      "text/plain": [
       "(14576.400605284094, 63796014.96255754, -4409465.305992471)"
      ]
     },
     "execution_count": 52,
     "metadata": {},
     "output_type": "execute_result"
    }
   ],
   "source": [
    "poly_reg_test_pred = poly_reg_model.predict(X_poly_test)\n",
    "print_info(\"test\", y_test, poly_reg_test_pred)"
   ]
  },
  {
   "cell_type": "markdown",
   "metadata": {},
   "source": [
    "Now that we have fitted the model we can extract the regression weights (coefficients) as follows:"
   ]
  },
  {
   "cell_type": "code",
   "execution_count": 53,
   "metadata": {},
   "outputs": [
    {
     "name": "stdout",
     "output_type": "stream",
     "text": [
      "[[ 15423578.56562418 -49763856.91047783  18662818.13854122 ...\n",
      "     -65146.60478549   1110434.82858965   -196550.95584139]]\n",
      "[1059785.90507968]\n"
     ]
    }
   ],
   "source": [
    "# Inspect coefficients\n",
    "print(poly_reg_model.coef_)\n",
    "print(poly_reg_model.intercept_)"
   ]
  },
  {
   "cell_type": "code",
   "execution_count": 54,
   "metadata": {},
   "outputs": [
    {
     "name": "stderr",
     "output_type": "stream",
     "text": [
      "/Users/angeliquetaylor/opt/anaconda3/lib/python3.8/site-packages/sklearn/metrics/_regression.py:682: UndefinedMetricWarning: R^2 score is not well-defined with less than two samples.\n",
      "  warnings.warn(msg, UndefinedMetricWarning)\n"
     ]
    }
   ],
   "source": [
    "errors = plot_learning_curves(poly_reg_model, X_train, y_train)"
   ]
  },
  {
   "cell_type": "code",
   "execution_count": 55,
   "metadata": {},
   "outputs": [
    {
     "data": {
      "image/png": "[encoded data removed]",
      "text/plain": [
       "<Figure size 432x288 with 1 Axes>"
      ]
     },
     "metadata": {
      "needs_background": "light"
     },
     "output_type": "display_data"
    }
   ],
   "source": [
    "plot_lc_figures(errors['train_rmse_errors'][300:], errors['val_rmse_errors'][300:], metric='RMSE')"
   ]
  },
  {
   "cell_type": "code",
   "execution_count": 56,
   "metadata": {},
   "outputs": [
    {
     "data": {
      "image/png": "[encoded data removed]",
      "text/plain": [
       "<Figure size 432x288 with 1 Axes>"
      ]
     },
     "metadata": {
      "needs_background": "light"
     },
     "output_type": "display_data"
    }
   ],
   "source": [
    "plot_lc_figures(errors['train_mae_errors'][300:], errors['val_mae_errors'][300:], metric='MAE')"
   ]
  },
  {
   "cell_type": "code",
   "execution_count": 57,
   "metadata": {},
   "outputs": [
    {
     "data": {
      "image/png": "[encoded data removed]",
      "text/plain": [
       "<Figure size 432x288 with 1 Axes>"
      ]
     },
     "metadata": {
      "needs_background": "light"
     },
     "output_type": "display_data"
    }
   ],
   "source": [
    "plot_lc_figures(errors['train_r2_errors'], errors['val_r2_errors'], metric='R2')"
   ]
  },
  {
   "cell_type": "markdown",
   "metadata": {},
   "source": [
    "Next, write a loop that does the following:\n",
    "* For degree in [1, 2, 3, 4])\n",
    "    * Create a series of features with increasing degree of polynomial x^1, x^2 what x is the \n",
    "    * Train a polynomial regression model\n",
    "    * Learn a polynomial regression model to total_rooms vs price with that degree on TRAIN data"
   ]
  },
  {
   "cell_type": "code",
   "execution_count": 58,
   "metadata": {},
   "outputs": [
    {
     "name": "stdout",
     "output_type": "stream",
     "text": [
      "Degree 1 of 4 complete\n",
      "train: RMSE: 253.01999265895023, MAE: 45819.17598639133, R2: 0.6030276828785982\n",
      "Degree 2 of 4 complete\n",
      "train: RMSE: 223.9356113868384, MAE: 34679.46649507744, R2: 0.7564245473516538\n",
      "Degree 3 of 4 complete\n",
      "train: RMSE: 182.94896464091298, MAE: 23068.941267734237, R2: 0.891492266709869\n"
     ]
    }
   ],
   "source": [
    "# Activity [Ans]\n",
    "# Option 1: Poly Features -> Linear Regression\n",
    "num_degrees=4\n",
    "for degree_ in range(1,num_degrees):\n",
    "    print('Degree {} of {} complete'.format(degree_,num_degrees))\n",
    "    scaler = StandardScaler()\n",
    "    X_train_scaler = scaler.fit_transform(X_train)\n",
    "    X_test_scaler = scaler.fit_transform(X_test)\n",
    "    \n",
    "    poly_features = PolynomialFeatures(degree=degree_, include_bias=False)\n",
    "    X_poly_train = poly_features.fit_transform(X_train_scaler)\n",
    "    X_poly_test = poly_features.transform(X_test_scaler)\n",
    "    poly_reg_model = LinearRegression().fit(X_poly_train, y_train)\n",
    "    \n",
    "    poly_reg_train_pred = poly_reg_model.predict(X_poly_train)\n",
    "    print_info(\"train\", y_train, poly_reg_train_pred)"
   ]
  },
  {
   "cell_type": "code",
   "execution_count": 59,
   "metadata": {},
   "outputs": [
    {
     "name": "stdout",
     "output_type": "stream",
     "text": [
      "Degree 1 of 4 complete\n",
      "train: RMSE: 253.01999265895023, MAE: 45819.17598639133, R2: 0.6030276828785982\n",
      "Degree 2 of 4 complete\n",
      "train: RMSE: 223.9356113868384, MAE: 34679.46649507744, R2: 0.7564245473516538\n",
      "Degree 3 of 4 complete\n",
      "train: RMSE: 182.94896464091298, MAE: 23068.941267734237, R2: 0.891492266709869\n"
     ]
    }
   ],
   "source": [
    "# Activity [Ans]\n",
    "# Option 2: Transformation pipeline\n",
    "for degree_ in range(1,num_degrees):\n",
    "    print('Degree {} of {} complete'.format(degree_,num_degrees))\n",
    "    poly_reg_model = Pipeline([('scaler', StandardScaler()), \n",
    "                           ('poly', PolynomialFeatures(degree=degree_, include_bias=False)), \n",
    "                           ('polyReg', LinearRegression())])\n",
    "    poly_reg_model.fit(X_train, y_train)\n",
    "    \n",
    "    poly_reg_train_pred = poly_reg_model.predict(X_train)\n",
    "    print_info(\"train\", y_train, poly_reg_train_pred)"
   ]
  },
  {
   "cell_type": "markdown",
   "metadata": {},
   "source": [
    "* Report which degree had the lowest RMSE, MAE, R2 on validation data"
   ]
  },
  {
   "cell_type": "markdown",
   "metadata": {},
   "source": [
    "# Learning Ridge Regression Models"
   ]
  },
  {
   "cell_type": "markdown",
   "metadata": {},
   "source": [
    "Recall that ridge regression model solves uses a loss function with a linear least squares function and regularization is given by the l2-norm. Its useful for shrinking model coefficients for features that are not useful for model prediction. "
   ]
  },
  {
   "cell_type": "code",
   "execution_count": 60,
   "metadata": {},
   "outputs": [],
   "source": [
    "from sklearn.linear_model import Ridge"
   ]
  },
  {
   "cell_type": "markdown",
   "metadata": {},
   "source": [
    "Use closed form solution to compute ridge coefficients, solver=\"cholesky\""
   ]
  },
  {
   "cell_type": "code",
   "execution_count": 61,
   "metadata": {},
   "outputs": [
    {
     "name": "stdout",
     "output_type": "stream",
     "text": [
      "train: RMSE: 253.07390774895612, MAE: 45972.21889898221, R2: 0.602689217290667\n"
     ]
    },
    {
     "name": "stderr",
     "output_type": "stream",
     "text": [
      "/Users/angeliquetaylor/opt/anaconda3/lib/python3.8/site-packages/sklearn/linear_model/_ridge.py:147: LinAlgWarning: Ill-conditioned matrix (rcond=7.32789e-20): result may not be accurate.\n",
      "  return linalg.solve(A, Xy, sym_pos=True,\n"
     ]
    },
    {
     "data": {
      "text/plain": [
       "(253.07390774895612, 45972.21889898221, 0.602689217290667)"
      ]
     },
     "execution_count": 61,
     "metadata": {},
     "output_type": "execute_result"
    }
   ],
   "source": [
    "ridge_model = Ridge(alpha=1, solver=\"cholesky\", random_state=42)\n",
    "ridge_model.fit(X_train, y_train)\n",
    "ridge_reg_train_pred = ridge_model.predict(X_train)\n",
    "print_info(\"train\", y_train, ridge_reg_train_pred)"
   ]
  },
  {
   "cell_type": "code",
   "execution_count": 62,
   "metadata": {},
   "outputs": [
    {
     "name": "stdout",
     "output_type": "stream",
     "text": [
      "The ridge coefficients of cholesky is: [[-1.02054194e+05  1.93666188e+05 -1.47411480e+03  1.23518421e+01\n",
      "   4.09547586e+01 -2.87886410e+01  6.93391203e+00  4.15083511e+04\n",
      "   2.87666643e+01 -8.78555565e-01 -5.77008106e+01  1.23278945e+00\n",
      "  -5.90208799e+03  4.81920818e+03  3.69567708e+02  1.86629976e+04\n",
      "  -2.00843962e+04 -1.24177722e+04  1.38391708e+04 -2.22251653e-04\n",
      "   2.06174446e+00 -2.92173579e+04  1.89568272e+03  3.26020399e+05\n",
      "   5.86652261e+02  3.28312234e+02]]\n",
      "The ridge intercept of cholesky is: [-10797634.15872303]\n"
     ]
    }
   ],
   "source": [
    "# Inspect coefficents\n",
    "print('The ridge coefficients of cholesky is: {}'.format(ridge_model.coef_))\n",
    "print('The ridge intercept of cholesky is: {}'.format(ridge_model.intercept_))"
   ]
  },
  {
   "cell_type": "markdown",
   "metadata": {},
   "source": [
    "Use least squares solution to compute ridge coefficients, solver=\"lsqr\". Observe the change in performance. Does it go down or up?"
   ]
  },
  {
   "cell_type": "code",
   "execution_count": 63,
   "metadata": {},
   "outputs": [
    {
     "name": "stdout",
     "output_type": "stream",
     "text": [
      "train: RMSE: 318.68081523469897, MAE: 79434.08652153425, R2: 0.00100216960355759\n"
     ]
    },
    {
     "data": {
      "text/plain": [
       "(318.68081523469897, 79434.08652153425, 0.00100216960355759)"
      ]
     },
     "execution_count": 63,
     "metadata": {},
     "output_type": "execute_result"
    }
   ],
   "source": [
    "ridge_model = Ridge(alpha=1, solver=\"lsqr\", random_state=42)\n",
    "ridge_model.fit(X_train, y_train)\n",
    "ridge_reg_train_pred = ridge_model.predict(X_train)\n",
    "print_info(\"train\", y_train, ridge_reg_train_pred)"
   ]
  },
  {
   "cell_type": "code",
   "execution_count": 64,
   "metadata": {},
   "outputs": [
    {
     "name": "stdout",
     "output_type": "stream",
     "text": [
      "The ridge coefficients of lsqr is: [[ 1.70413295e-12 -1.96777580e-11  2.21497565e-11  1.43053880e-08\n",
      "   1.68750448e-09 -3.16983333e-09  1.56459165e-09  5.55605040e-11\n",
      "   2.85073448e-11 -2.31832632e-08  1.77644444e-11  1.60808200e-09\n",
      "   1.85522161e-11 -4.62438787e-13  1.92388592e-11  1.08129098e-11\n",
      "  -1.26627103e-11  1.42834887e-13  1.70696557e-12  7.98736137e-05\n",
      "   6.62613330e-08 -1.93523647e-12  2.43355078e-09 -6.84339047e-13\n",
      "  -1.08843882e-11  7.11847815e-10]]\n",
      "The ridge intercept of lsqr is: [199431.56807248]\n"
     ]
    }
   ],
   "source": [
    "# Inspect coefficents\n",
    "print('The ridge coefficients of lsqr is: {}'.format(ridge_model.coef_))\n",
    "print('The ridge intercept of lsqr is: {}'.format(ridge_model.intercept_))"
   ]
  },
  {
   "cell_type": "markdown",
   "metadata": {},
   "source": [
    "### Cross Validation for regularization parameter search "
   ]
  },
  {
   "cell_type": "markdown",
   "metadata": {},
   "source": [
    "### Cross validation option 1"
   ]
  },
  {
   "cell_type": "code",
   "execution_count": 65,
   "metadata": {},
   "outputs": [],
   "source": [
    "from sklearn.model_selection import RepeatedKFold\n",
    "from sklearn.model_selection import cross_val_score"
   ]
  },
  {
   "cell_type": "markdown",
   "metadata": {},
   "source": [
    "Define lasso hyperparameters"
   ]
  },
  {
   "cell_type": "code",
   "execution_count": 66,
   "metadata": {},
   "outputs": [],
   "source": [
    "n_splits=5\n",
    "n_repeats=3\n",
    "scoring='neg_mean_absolute_error' # neg_mean_squared_error for RMSE, 'r2' for R2 score\n",
    "\n",
    "# evaluation method\n",
    "ridge_cv = RepeatedKFold(n_splits=n_splits, n_repeats=n_repeats, random_state=1)"
   ]
  },
  {
   "cell_type": "code",
   "execution_count": 67,
   "metadata": {},
   "outputs": [
    {
     "name": "stdout",
     "output_type": "stream",
     "text": [
      "Mean MAE: 46473.284 (1145.228)\n",
      "train: RMSE: 253.07390774895612, MAE: 45972.21889898221, R2: 0.602689217290667\n"
     ]
    },
    {
     "name": "stderr",
     "output_type": "stream",
     "text": [
      "/Users/angeliquetaylor/opt/anaconda3/lib/python3.8/site-packages/sklearn/linear_model/_ridge.py:147: LinAlgWarning: Ill-conditioned matrix (rcond=7.32789e-20): result may not be accurate.\n",
      "  return linalg.solve(A, Xy, sym_pos=True,\n"
     ]
    },
    {
     "data": {
      "text/plain": [
       "(253.07390774895612, 45972.21889898221, 0.602689217290667)"
      ]
     },
     "execution_count": 67,
     "metadata": {},
     "output_type": "execute_result"
    }
   ],
   "source": [
    "# define model\n",
    "ridge_model = Ridge(alpha=1.0)\n",
    "\n",
    "# evaluate model\n",
    "scores = cross_val_score(ridge_model, X_train, y_train, scoring=scoring, cv=ridge_cv, n_jobs=-1)\n",
    "\n",
    "# force scores to be positive\n",
    "scores = abs(scores)\n",
    "print('Mean MAE: %.3f (%.3f)' % (np.mean(scores), np.std(scores)))\n",
    "\n",
    "# fit model\n",
    "ridge_model.fit(X_train, y_train)\n",
    "ridge_reg_train_pred = ridge_model.predict(X_train)\n",
    "print_info(\"train\", y_train, ridge_reg_train_pred)"
   ]
  },
  {
   "cell_type": "code",
   "execution_count": 68,
   "metadata": {},
   "outputs": [
    {
     "name": "stdout",
     "output_type": "stream",
     "text": [
      "The ridge coefficients are: [[-1.02054194e+05  1.93666188e+05 -1.47411480e+03  1.23518421e+01\n",
      "   4.09547586e+01 -2.87886410e+01  6.93391203e+00  4.15083511e+04\n",
      "   2.87666643e+01 -8.78555565e-01 -5.77008106e+01  1.23278945e+00\n",
      "  -5.90208799e+03  4.81920818e+03  3.69567708e+02  1.86629976e+04\n",
      "  -2.00843962e+04 -1.24177722e+04  1.38391708e+04 -2.22251653e-04\n",
      "   2.06174446e+00 -2.92173579e+04  1.89568272e+03  3.26020399e+05\n",
      "   5.86652261e+02  3.28312234e+02]]\n",
      "The ridge intercept is: [-10797634.15872303]\n"
     ]
    }
   ],
   "source": [
    "# Inspect coefficents\n",
    "print('The ridge coefficients are: {}'.format(ridge_model.coef_))\n",
    "print('The ridge intercept is: {}'.format(ridge_model.intercept_))"
   ]
  },
  {
   "cell_type": "markdown",
   "metadata": {},
   "source": [
    "### Cross validation option 2 - Parameter search"
   ]
  },
  {
   "cell_type": "code",
   "execution_count": 69,
   "metadata": {},
   "outputs": [],
   "source": [
    "from sklearn.model_selection import GridSearchCV"
   ]
  },
  {
   "cell_type": "markdown",
   "metadata": {},
   "source": [
    "Set ridge parameters:\n",
    "- alpha: controls regularization strength. Decide how much to penalize feature weights\n",
    "- solver: method used for solving for regularization parameter"
   ]
  },
  {
   "cell_type": "code",
   "execution_count": 70,
   "metadata": {},
   "outputs": [],
   "source": [
    "ridge_params = {\n",
    "  'alpha': [1, 0.5, 0.1], #[1e-5, 1e-4, 1e-3, 1e-2, 1e-1, 1, 10, 100]\n",
    "  'solver': ['cholesky', 'sag']\n",
    "}"
   ]
  },
  {
   "cell_type": "markdown",
   "metadata": {},
   "source": [
    "Train a ridge regression model with l2 norm regularization."
   ]
  },
  {
   "cell_type": "code",
   "execution_count": 71,
   "metadata": {},
   "outputs": [
    {
     "name": "stderr",
     "output_type": "stream",
     "text": [
      "/Users/angeliquetaylor/opt/anaconda3/lib/python3.8/site-packages/sklearn/linear_model/_ridge.py:147: LinAlgWarning: Ill-conditioned matrix (rcond=9.66241e-20): result may not be accurate.\n",
      "  return linalg.solve(A, Xy, sym_pos=True,\n",
      "/Users/angeliquetaylor/opt/anaconda3/lib/python3.8/site-packages/sklearn/linear_model/_ridge.py:147: LinAlgWarning: Ill-conditioned matrix (rcond=8.29651e-20): result may not be accurate.\n",
      "  return linalg.solve(A, Xy, sym_pos=True,\n",
      "/Users/angeliquetaylor/opt/anaconda3/lib/python3.8/site-packages/sklearn/linear_model/_ridge.py:147: LinAlgWarning: Ill-conditioned matrix (rcond=8.46335e-20): result may not be accurate.\n",
      "  return linalg.solve(A, Xy, sym_pos=True,\n",
      "/Users/angeliquetaylor/opt/anaconda3/lib/python3.8/site-packages/sklearn/linear_model/_ridge.py:147: LinAlgWarning: Ill-conditioned matrix (rcond=1.01696e-19): result may not be accurate.\n",
      "  return linalg.solve(A, Xy, sym_pos=True,\n",
      "/Users/angeliquetaylor/opt/anaconda3/lib/python3.8/site-packages/sklearn/linear_model/_ridge.py:147: LinAlgWarning: Ill-conditioned matrix (rcond=9.42164e-20): result may not be accurate.\n",
      "  return linalg.solve(A, Xy, sym_pos=True,\n",
      "/Users/angeliquetaylor/opt/anaconda3/lib/python3.8/site-packages/sklearn/linear_model/_ridge.py:147: LinAlgWarning: Ill-conditioned matrix (rcond=8.30936e-20): result may not be accurate.\n",
      "  return linalg.solve(A, Xy, sym_pos=True,\n",
      "/Users/angeliquetaylor/opt/anaconda3/lib/python3.8/site-packages/sklearn/linear_model/_ridge.py:147: LinAlgWarning: Ill-conditioned matrix (rcond=1.11482e-19): result may not be accurate.\n",
      "  return linalg.solve(A, Xy, sym_pos=True,\n",
      "/Users/angeliquetaylor/opt/anaconda3/lib/python3.8/site-packages/sklearn/linear_model/_ridge.py:147: LinAlgWarning: Ill-conditioned matrix (rcond=9.24998e-20): result may not be accurate.\n",
      "  return linalg.solve(A, Xy, sym_pos=True,\n",
      "/Users/angeliquetaylor/opt/anaconda3/lib/python3.8/site-packages/sklearn/linear_model/_ridge.py:147: LinAlgWarning: Ill-conditioned matrix (rcond=9.39859e-20): result may not be accurate.\n",
      "  return linalg.solve(A, Xy, sym_pos=True,\n",
      "/Users/angeliquetaylor/opt/anaconda3/lib/python3.8/site-packages/sklearn/linear_model/_ridge.py:147: LinAlgWarning: Ill-conditioned matrix (rcond=8.19145e-20): result may not be accurate.\n",
      "  return linalg.solve(A, Xy, sym_pos=True,\n",
      "/Users/angeliquetaylor/opt/anaconda3/lib/python3.8/site-packages/sklearn/linear_model/_ridge.py:147: LinAlgWarning: Ill-conditioned matrix (rcond=9.77318e-20): result may not be accurate.\n",
      "  return linalg.solve(A, Xy, sym_pos=True,\n",
      "/Users/angeliquetaylor/opt/anaconda3/lib/python3.8/site-packages/sklearn/linear_model/_ridge.py:147: LinAlgWarning: Ill-conditioned matrix (rcond=1.05477e-19): result may not be accurate.\n",
      "  return linalg.solve(A, Xy, sym_pos=True,\n",
      "/Users/angeliquetaylor/opt/anaconda3/lib/python3.8/site-packages/sklearn/linear_model/_ridge.py:147: LinAlgWarning: Ill-conditioned matrix (rcond=9.56705e-20): result may not be accurate.\n",
      "  return linalg.solve(A, Xy, sym_pos=True,\n",
      "/Users/angeliquetaylor/opt/anaconda3/lib/python3.8/site-packages/sklearn/linear_model/_ridge.py:147: LinAlgWarning: Ill-conditioned matrix (rcond=8.30185e-20): result may not be accurate.\n",
      "  return linalg.solve(A, Xy, sym_pos=True,\n",
      "/Users/angeliquetaylor/opt/anaconda3/lib/python3.8/site-packages/sklearn/linear_model/_ridge.py:147: LinAlgWarning: Ill-conditioned matrix (rcond=8.03006e-20): result may not be accurate.\n",
      "  return linalg.solve(A, Xy, sym_pos=True,\n",
      "/Users/angeliquetaylor/opt/anaconda3/lib/python3.8/site-packages/sklearn/linear_model/_sag.py:328: ConvergenceWarning: The max_iter was reached which means the coef_ did not converge\n",
      "  warnings.warn(\"The max_iter was reached which means \"\n",
      "/Users/angeliquetaylor/opt/anaconda3/lib/python3.8/site-packages/sklearn/linear_model/_sag.py:328: ConvergenceWarning: The max_iter was reached which means the coef_ did not converge\n",
      "  warnings.warn(\"The max_iter was reached which means \"\n",
      "/Users/angeliquetaylor/opt/anaconda3/lib/python3.8/site-packages/sklearn/linear_model/_sag.py:328: ConvergenceWarning: The max_iter was reached which means the coef_ did not converge\n",
      "  warnings.warn(\"The max_iter was reached which means \"\n",
      "/Users/angeliquetaylor/opt/anaconda3/lib/python3.8/site-packages/sklearn/linear_model/_sag.py:328: ConvergenceWarning: The max_iter was reached which means the coef_ did not converge\n",
      "  warnings.warn(\"The max_iter was reached which means \"\n",
      "/Users/angeliquetaylor/opt/anaconda3/lib/python3.8/site-packages/sklearn/linear_model/_sag.py:328: ConvergenceWarning: The max_iter was reached which means the coef_ did not converge\n",
      "  warnings.warn(\"The max_iter was reached which means \"\n",
      "/Users/angeliquetaylor/opt/anaconda3/lib/python3.8/site-packages/sklearn/linear_model/_sag.py:328: ConvergenceWarning: The max_iter was reached which means the coef_ did not converge\n",
      "  warnings.warn(\"The max_iter was reached which means \"\n",
      "/Users/angeliquetaylor/opt/anaconda3/lib/python3.8/site-packages/sklearn/linear_model/_sag.py:328: ConvergenceWarning: The max_iter was reached which means the coef_ did not converge\n",
      "  warnings.warn(\"The max_iter was reached which means \"\n",
      "/Users/angeliquetaylor/opt/anaconda3/lib/python3.8/site-packages/sklearn/linear_model/_sag.py:328: ConvergenceWarning: The max_iter was reached which means the coef_ did not converge\n",
      "  warnings.warn(\"The max_iter was reached which means \"\n",
      "/Users/angeliquetaylor/opt/anaconda3/lib/python3.8/site-packages/sklearn/linear_model/_sag.py:328: ConvergenceWarning: The max_iter was reached which means the coef_ did not converge\n",
      "  warnings.warn(\"The max_iter was reached which means \"\n",
      "/Users/angeliquetaylor/opt/anaconda3/lib/python3.8/site-packages/sklearn/linear_model/_sag.py:328: ConvergenceWarning: The max_iter was reached which means the coef_ did not converge\n",
      "  warnings.warn(\"The max_iter was reached which means \"\n",
      "/Users/angeliquetaylor/opt/anaconda3/lib/python3.8/site-packages/sklearn/linear_model/_sag.py:328: ConvergenceWarning: The max_iter was reached which means the coef_ did not converge\n",
      "  warnings.warn(\"The max_iter was reached which means \"\n",
      "/Users/angeliquetaylor/opt/anaconda3/lib/python3.8/site-packages/sklearn/linear_model/_sag.py:328: ConvergenceWarning: The max_iter was reached which means the coef_ did not converge\n",
      "  warnings.warn(\"The max_iter was reached which means \"\n",
      "/Users/angeliquetaylor/opt/anaconda3/lib/python3.8/site-packages/sklearn/linear_model/_sag.py:328: ConvergenceWarning: The max_iter was reached which means the coef_ did not converge\n",
      "  warnings.warn(\"The max_iter was reached which means \"\n",
      "/Users/angeliquetaylor/opt/anaconda3/lib/python3.8/site-packages/sklearn/linear_model/_sag.py:328: ConvergenceWarning: The max_iter was reached which means the coef_ did not converge\n",
      "  warnings.warn(\"The max_iter was reached which means \"\n",
      "/Users/angeliquetaylor/opt/anaconda3/lib/python3.8/site-packages/sklearn/linear_model/_sag.py:328: ConvergenceWarning: The max_iter was reached which means the coef_ did not converge\n",
      "  warnings.warn(\"The max_iter was reached which means \"\n",
      "/Users/angeliquetaylor/opt/anaconda3/lib/python3.8/site-packages/sklearn/linear_model/_ridge.py:147: LinAlgWarning: Ill-conditioned matrix (rcond=4.85133e-20): result may not be accurate.\n",
      "  return linalg.solve(A, Xy, sym_pos=True,\n",
      "/Users/angeliquetaylor/opt/anaconda3/lib/python3.8/site-packages/sklearn/linear_model/_ridge.py:147: LinAlgWarning: Ill-conditioned matrix (rcond=4.16558e-20): result may not be accurate.\n",
      "  return linalg.solve(A, Xy, sym_pos=True,\n",
      "/Users/angeliquetaylor/opt/anaconda3/lib/python3.8/site-packages/sklearn/linear_model/_ridge.py:147: LinAlgWarning: Ill-conditioned matrix (rcond=4.25028e-20): result may not be accurate.\n",
      "  return linalg.solve(A, Xy, sym_pos=True,\n",
      "/Users/angeliquetaylor/opt/anaconda3/lib/python3.8/site-packages/sklearn/linear_model/_ridge.py:147: LinAlgWarning: Ill-conditioned matrix (rcond=5.10576e-20): result may not be accurate.\n",
      "  return linalg.solve(A, Xy, sym_pos=True,\n",
      "/Users/angeliquetaylor/opt/anaconda3/lib/python3.8/site-packages/sklearn/linear_model/_ridge.py:147: LinAlgWarning: Ill-conditioned matrix (rcond=4.73034e-20): result may not be accurate.\n",
      "  return linalg.solve(A, Xy, sym_pos=True,\n",
      "/Users/angeliquetaylor/opt/anaconda3/lib/python3.8/site-packages/sklearn/linear_model/_ridge.py:147: LinAlgWarning: Ill-conditioned matrix (rcond=4.17188e-20): result may not be accurate.\n",
      "  return linalg.solve(A, Xy, sym_pos=True,\n",
      "/Users/angeliquetaylor/opt/anaconda3/lib/python3.8/site-packages/sklearn/linear_model/_ridge.py:147: LinAlgWarning: Ill-conditioned matrix (rcond=5.59772e-20): result may not be accurate.\n",
      "  return linalg.solve(A, Xy, sym_pos=True,\n",
      "/Users/angeliquetaylor/opt/anaconda3/lib/python3.8/site-packages/sklearn/linear_model/_ridge.py:147: LinAlgWarning: Ill-conditioned matrix (rcond=4.64435e-20): result may not be accurate.\n",
      "  return linalg.solve(A, Xy, sym_pos=True,\n",
      "/Users/angeliquetaylor/opt/anaconda3/lib/python3.8/site-packages/sklearn/linear_model/_ridge.py:147: LinAlgWarning: Ill-conditioned matrix (rcond=4.71942e-20): result may not be accurate.\n",
      "  return linalg.solve(A, Xy, sym_pos=True,\n",
      "/Users/angeliquetaylor/opt/anaconda3/lib/python3.8/site-packages/sklearn/linear_model/_ridge.py:147: LinAlgWarning: Ill-conditioned matrix (rcond=4.11273e-20): result may not be accurate.\n",
      "  return linalg.solve(A, Xy, sym_pos=True,\n",
      "/Users/angeliquetaylor/opt/anaconda3/lib/python3.8/site-packages/sklearn/linear_model/_ridge.py:147: LinAlgWarning: Ill-conditioned matrix (rcond=4.90697e-20): result may not be accurate.\n",
      "  return linalg.solve(A, Xy, sym_pos=True,\n",
      "/Users/angeliquetaylor/opt/anaconda3/lib/python3.8/site-packages/sklearn/linear_model/_ridge.py:147: LinAlgWarning: Ill-conditioned matrix (rcond=5.29566e-20): result may not be accurate.\n",
      "  return linalg.solve(A, Xy, sym_pos=True,\n",
      "/Users/angeliquetaylor/opt/anaconda3/lib/python3.8/site-packages/sklearn/linear_model/_ridge.py:147: LinAlgWarning: Ill-conditioned matrix (rcond=4.80332e-20): result may not be accurate.\n",
      "  return linalg.solve(A, Xy, sym_pos=True,\n",
      "/Users/angeliquetaylor/opt/anaconda3/lib/python3.8/site-packages/sklearn/linear_model/_ridge.py:147: LinAlgWarning: Ill-conditioned matrix (rcond=4.1694e-20): result may not be accurate.\n",
      "  return linalg.solve(A, Xy, sym_pos=True,\n",
      "/Users/angeliquetaylor/opt/anaconda3/lib/python3.8/site-packages/sklearn/linear_model/_ridge.py:147: LinAlgWarning: Ill-conditioned matrix (rcond=4.03152e-20): result may not be accurate.\n",
      "  return linalg.solve(A, Xy, sym_pos=True,\n"
     ]
    },
    {
     "name": "stderr",
     "output_type": "stream",
     "text": [
      "/Users/angeliquetaylor/opt/anaconda3/lib/python3.8/site-packages/sklearn/linear_model/_sag.py:328: ConvergenceWarning: The max_iter was reached which means the coef_ did not converge\n",
      "  warnings.warn(\"The max_iter was reached which means \"\n",
      "/Users/angeliquetaylor/opt/anaconda3/lib/python3.8/site-packages/sklearn/linear_model/_sag.py:328: ConvergenceWarning: The max_iter was reached which means the coef_ did not converge\n",
      "  warnings.warn(\"The max_iter was reached which means \"\n",
      "/Users/angeliquetaylor/opt/anaconda3/lib/python3.8/site-packages/sklearn/linear_model/_sag.py:328: ConvergenceWarning: The max_iter was reached which means the coef_ did not converge\n",
      "  warnings.warn(\"The max_iter was reached which means \"\n",
      "/Users/angeliquetaylor/opt/anaconda3/lib/python3.8/site-packages/sklearn/linear_model/_sag.py:328: ConvergenceWarning: The max_iter was reached which means the coef_ did not converge\n",
      "  warnings.warn(\"The max_iter was reached which means \"\n",
      "/Users/angeliquetaylor/opt/anaconda3/lib/python3.8/site-packages/sklearn/linear_model/_sag.py:328: ConvergenceWarning: The max_iter was reached which means the coef_ did not converge\n",
      "  warnings.warn(\"The max_iter was reached which means \"\n",
      "/Users/angeliquetaylor/opt/anaconda3/lib/python3.8/site-packages/sklearn/linear_model/_sag.py:328: ConvergenceWarning: The max_iter was reached which means the coef_ did not converge\n",
      "  warnings.warn(\"The max_iter was reached which means \"\n",
      "/Users/angeliquetaylor/opt/anaconda3/lib/python3.8/site-packages/sklearn/linear_model/_sag.py:328: ConvergenceWarning: The max_iter was reached which means the coef_ did not converge\n",
      "  warnings.warn(\"The max_iter was reached which means \"\n",
      "/Users/angeliquetaylor/opt/anaconda3/lib/python3.8/site-packages/sklearn/linear_model/_sag.py:328: ConvergenceWarning: The max_iter was reached which means the coef_ did not converge\n",
      "  warnings.warn(\"The max_iter was reached which means \"\n",
      "/Users/angeliquetaylor/opt/anaconda3/lib/python3.8/site-packages/sklearn/linear_model/_sag.py:328: ConvergenceWarning: The max_iter was reached which means the coef_ did not converge\n",
      "  warnings.warn(\"The max_iter was reached which means \"\n",
      "/Users/angeliquetaylor/opt/anaconda3/lib/python3.8/site-packages/sklearn/linear_model/_sag.py:328: ConvergenceWarning: The max_iter was reached which means the coef_ did not converge\n",
      "  warnings.warn(\"The max_iter was reached which means \"\n",
      "/Users/angeliquetaylor/opt/anaconda3/lib/python3.8/site-packages/sklearn/linear_model/_sag.py:328: ConvergenceWarning: The max_iter was reached which means the coef_ did not converge\n",
      "  warnings.warn(\"The max_iter was reached which means \"\n",
      "/Users/angeliquetaylor/opt/anaconda3/lib/python3.8/site-packages/sklearn/linear_model/_sag.py:328: ConvergenceWarning: The max_iter was reached which means the coef_ did not converge\n",
      "  warnings.warn(\"The max_iter was reached which means \"\n",
      "/Users/angeliquetaylor/opt/anaconda3/lib/python3.8/site-packages/sklearn/linear_model/_sag.py:328: ConvergenceWarning: The max_iter was reached which means the coef_ did not converge\n",
      "  warnings.warn(\"The max_iter was reached which means \"\n",
      "/Users/angeliquetaylor/opt/anaconda3/lib/python3.8/site-packages/sklearn/linear_model/_sag.py:328: ConvergenceWarning: The max_iter was reached which means the coef_ did not converge\n",
      "  warnings.warn(\"The max_iter was reached which means \"\n",
      "/Users/angeliquetaylor/opt/anaconda3/lib/python3.8/site-packages/sklearn/linear_model/_sag.py:328: ConvergenceWarning: The max_iter was reached which means the coef_ did not converge\n",
      "  warnings.warn(\"The max_iter was reached which means \"\n",
      "/Users/angeliquetaylor/opt/anaconda3/lib/python3.8/site-packages/sklearn/linear_model/_ridge.py:147: LinAlgWarning: Ill-conditioned matrix (rcond=9.75528e-21): result may not be accurate.\n",
      "  return linalg.solve(A, Xy, sym_pos=True,\n",
      "/Users/angeliquetaylor/opt/anaconda3/lib/python3.8/site-packages/sklearn/linear_model/_ridge.py:147: LinAlgWarning: Ill-conditioned matrix (rcond=8.37654e-21): result may not be accurate.\n",
      "  return linalg.solve(A, Xy, sym_pos=True,\n",
      "/Users/angeliquetaylor/opt/anaconda3/lib/python3.8/site-packages/sklearn/linear_model/_ridge.py:147: LinAlgWarning: Ill-conditioned matrix (rcond=8.54933e-21): result may not be accurate.\n",
      "  return linalg.solve(A, Xy, sym_pos=True,\n",
      "/Users/angeliquetaylor/opt/anaconda3/lib/python3.8/site-packages/sklearn/linear_model/_ridge.py:147: LinAlgWarning: Ill-conditioned matrix (rcond=1.02667e-20): result may not be accurate.\n",
      "  return linalg.solve(A, Xy, sym_pos=True,\n",
      "/Users/angeliquetaylor/opt/anaconda3/lib/python3.8/site-packages/sklearn/linear_model/_ridge.py:147: LinAlgWarning: Ill-conditioned matrix (rcond=9.51159e-21): result may not be accurate.\n",
      "  return linalg.solve(A, Xy, sym_pos=True,\n",
      "/Users/angeliquetaylor/opt/anaconda3/lib/python3.8/site-packages/sklearn/linear_model/_ridge.py:147: LinAlgWarning: Ill-conditioned matrix (rcond=8.38891e-21): result may not be accurate.\n",
      "  return linalg.solve(A, Xy, sym_pos=True,\n",
      "/Users/angeliquetaylor/opt/anaconda3/lib/python3.8/site-packages/sklearn/linear_model/_ridge.py:147: LinAlgWarning: Ill-conditioned matrix (rcond=1.12568e-20): result may not be accurate.\n",
      "  return linalg.solve(A, Xy, sym_pos=True,\n",
      "/Users/angeliquetaylor/opt/anaconda3/lib/python3.8/site-packages/sklearn/linear_model/_ridge.py:147: LinAlgWarning: Ill-conditioned matrix (rcond=9.33946e-21): result may not be accurate.\n",
      "  return linalg.solve(A, Xy, sym_pos=True,\n",
      "/Users/angeliquetaylor/opt/anaconda3/lib/python3.8/site-packages/sklearn/linear_model/_ridge.py:147: LinAlgWarning: Ill-conditioned matrix (rcond=9.49163e-21): result may not be accurate.\n",
      "  return linalg.solve(A, Xy, sym_pos=True,\n",
      "/Users/angeliquetaylor/opt/anaconda3/lib/python3.8/site-packages/sklearn/linear_model/_ridge.py:147: LinAlgWarning: Ill-conditioned matrix (rcond=8.27019e-21): result may not be accurate.\n",
      "  return linalg.solve(A, Xy, sym_pos=True,\n",
      "/Users/angeliquetaylor/opt/anaconda3/lib/python3.8/site-packages/sklearn/linear_model/_ridge.py:147: LinAlgWarning: Ill-conditioned matrix (rcond=9.86684e-21): result may not be accurate.\n",
      "  return linalg.solve(A, Xy, sym_pos=True,\n",
      "/Users/angeliquetaylor/opt/anaconda3/lib/python3.8/site-packages/sklearn/linear_model/_ridge.py:147: LinAlgWarning: Ill-conditioned matrix (rcond=1.06482e-20): result may not be accurate.\n",
      "  return linalg.solve(A, Xy, sym_pos=True,\n",
      "/Users/angeliquetaylor/opt/anaconda3/lib/python3.8/site-packages/sklearn/linear_model/_ridge.py:147: LinAlgWarning: Ill-conditioned matrix (rcond=9.65835e-21): result may not be accurate.\n",
      "  return linalg.solve(A, Xy, sym_pos=True,\n",
      "/Users/angeliquetaylor/opt/anaconda3/lib/python3.8/site-packages/sklearn/linear_model/_ridge.py:147: LinAlgWarning: Ill-conditioned matrix (rcond=8.38723e-21): result may not be accurate.\n",
      "  return linalg.solve(A, Xy, sym_pos=True,\n",
      "/Users/angeliquetaylor/opt/anaconda3/lib/python3.8/site-packages/sklearn/linear_model/_ridge.py:147: LinAlgWarning: Ill-conditioned matrix (rcond=8.10689e-21): result may not be accurate.\n",
      "  return linalg.solve(A, Xy, sym_pos=True,\n",
      "/Users/angeliquetaylor/opt/anaconda3/lib/python3.8/site-packages/sklearn/linear_model/_sag.py:328: ConvergenceWarning: The max_iter was reached which means the coef_ did not converge\n",
      "  warnings.warn(\"The max_iter was reached which means \"\n",
      "/Users/angeliquetaylor/opt/anaconda3/lib/python3.8/site-packages/sklearn/linear_model/_sag.py:328: ConvergenceWarning: The max_iter was reached which means the coef_ did not converge\n",
      "  warnings.warn(\"The max_iter was reached which means \"\n",
      "/Users/angeliquetaylor/opt/anaconda3/lib/python3.8/site-packages/sklearn/linear_model/_sag.py:328: ConvergenceWarning: The max_iter was reached which means the coef_ did not converge\n",
      "  warnings.warn(\"The max_iter was reached which means \"\n",
      "/Users/angeliquetaylor/opt/anaconda3/lib/python3.8/site-packages/sklearn/linear_model/_sag.py:328: ConvergenceWarning: The max_iter was reached which means the coef_ did not converge\n",
      "  warnings.warn(\"The max_iter was reached which means \"\n",
      "/Users/angeliquetaylor/opt/anaconda3/lib/python3.8/site-packages/sklearn/linear_model/_sag.py:328: ConvergenceWarning: The max_iter was reached which means the coef_ did not converge\n",
      "  warnings.warn(\"The max_iter was reached which means \"\n"
     ]
    },
    {
     "name": "stderr",
     "output_type": "stream",
     "text": [
      "/Users/angeliquetaylor/opt/anaconda3/lib/python3.8/site-packages/sklearn/linear_model/_sag.py:328: ConvergenceWarning: The max_iter was reached which means the coef_ did not converge\n",
      "  warnings.warn(\"The max_iter was reached which means \"\n",
      "/Users/angeliquetaylor/opt/anaconda3/lib/python3.8/site-packages/sklearn/linear_model/_sag.py:328: ConvergenceWarning: The max_iter was reached which means the coef_ did not converge\n",
      "  warnings.warn(\"The max_iter was reached which means \"\n",
      "/Users/angeliquetaylor/opt/anaconda3/lib/python3.8/site-packages/sklearn/linear_model/_sag.py:328: ConvergenceWarning: The max_iter was reached which means the coef_ did not converge\n",
      "  warnings.warn(\"The max_iter was reached which means \"\n",
      "/Users/angeliquetaylor/opt/anaconda3/lib/python3.8/site-packages/sklearn/linear_model/_sag.py:328: ConvergenceWarning: The max_iter was reached which means the coef_ did not converge\n",
      "  warnings.warn(\"The max_iter was reached which means \"\n",
      "/Users/angeliquetaylor/opt/anaconda3/lib/python3.8/site-packages/sklearn/linear_model/_sag.py:328: ConvergenceWarning: The max_iter was reached which means the coef_ did not converge\n",
      "  warnings.warn(\"The max_iter was reached which means \"\n",
      "/Users/angeliquetaylor/opt/anaconda3/lib/python3.8/site-packages/sklearn/linear_model/_sag.py:328: ConvergenceWarning: The max_iter was reached which means the coef_ did not converge\n",
      "  warnings.warn(\"The max_iter was reached which means \"\n",
      "/Users/angeliquetaylor/opt/anaconda3/lib/python3.8/site-packages/sklearn/linear_model/_sag.py:328: ConvergenceWarning: The max_iter was reached which means the coef_ did not converge\n",
      "  warnings.warn(\"The max_iter was reached which means \"\n",
      "/Users/angeliquetaylor/opt/anaconda3/lib/python3.8/site-packages/sklearn/linear_model/_sag.py:328: ConvergenceWarning: The max_iter was reached which means the coef_ did not converge\n",
      "  warnings.warn(\"The max_iter was reached which means \"\n",
      "/Users/angeliquetaylor/opt/anaconda3/lib/python3.8/site-packages/sklearn/linear_model/_sag.py:328: ConvergenceWarning: The max_iter was reached which means the coef_ did not converge\n",
      "  warnings.warn(\"The max_iter was reached which means \"\n",
      "/Users/angeliquetaylor/opt/anaconda3/lib/python3.8/site-packages/sklearn/linear_model/_sag.py:328: ConvergenceWarning: The max_iter was reached which means the coef_ did not converge\n",
      "  warnings.warn(\"The max_iter was reached which means \"\n",
      "/Users/angeliquetaylor/opt/anaconda3/lib/python3.8/site-packages/sklearn/linear_model/_ridge.py:147: LinAlgWarning: Ill-conditioned matrix (rcond=7.39088e-21): result may not be accurate.\n",
      "  return linalg.solve(A, Xy, sym_pos=True,\n"
     ]
    },
    {
     "data": {
      "text/plain": [
       "GridSearchCV(cv=RepeatedKFold(n_repeats=3, n_splits=5, random_state=1),\n",
       "             estimator=Ridge(),\n",
       "             param_grid={'alpha': [1, 0.5, 0.1], 'solver': ['cholesky', 'sag']})"
      ]
     },
     "execution_count": 71,
     "metadata": {},
     "output_type": "execute_result"
    }
   ],
   "source": [
    "ridge_cv_grid = GridSearchCV(estimator=Ridge(), \n",
    "                        param_grid=ridge_params, \n",
    "                        cv=ridge_cv)\n",
    "ridge_cv_grid.fit(X_train, y_train)"
   ]
  },
  {
   "cell_type": "markdown",
   "metadata": {},
   "source": [
    "Now, evaluate the model on the training data"
   ]
  },
  {
   "cell_type": "code",
   "execution_count": 72,
   "metadata": {},
   "outputs": [
    {
     "name": "stdout",
     "output_type": "stream",
     "text": [
      "train: RMSE: 252.99916965317337, MAE: 45918.96725017707, R2: 0.6031583466477523\n"
     ]
    },
    {
     "data": {
      "text/plain": [
       "(252.99916965317337, 45918.96725017707, 0.6031583466477523)"
      ]
     },
     "execution_count": 72,
     "metadata": {},
     "output_type": "execute_result"
    }
   ],
   "source": [
    "ridge_reg_train_pred = ridge_cv_grid.predict(X_train)\n",
    "print_info(\"train\", y_train, ridge_reg_train_pred)"
   ]
  },
  {
   "cell_type": "markdown",
   "metadata": {},
   "source": [
    "Now, evaluate the model on the test data"
   ]
  },
  {
   "cell_type": "code",
   "execution_count": 73,
   "metadata": {},
   "outputs": [
    {
     "name": "stdout",
     "output_type": "stream",
     "text": [
      "test: RMSE: 250.94221282598062, MAE: 45064.63872376724, R2: 0.6126712454721356\n"
     ]
    },
    {
     "data": {
      "text/plain": [
       "(250.94221282598062, 45064.63872376724, 0.6126712454721356)"
      ]
     },
     "execution_count": 73,
     "metadata": {},
     "output_type": "execute_result"
    }
   ],
   "source": [
    "ridge_reg_test_pred = ridge_cv_grid.predict(X_test)\n",
    "print_info(\"test\", y_test, ridge_reg_test_pred)"
   ]
  },
  {
   "cell_type": "code",
   "execution_count": 74,
   "metadata": {},
   "outputs": [
    {
     "name": "stdout",
     "output_type": "stream",
     "text": [
      "Best model acheived a score: 0.5101388142267219\n",
      "Best model parameters: {'alpha': 0.1, 'solver': 'cholesky'}\n"
     ]
    }
   ],
   "source": [
    "# Inspect cross validation performance, optimal score and parameters\n",
    "print('Best model acheived a score: %s'% ridge_cv_grid.best_score_)\n",
    "print('Best model parameters: %s' % ridge_cv_grid.best_params_)"
   ]
  },
  {
   "cell_type": "markdown",
   "metadata": {},
   "source": [
    "### Cross validation option 3 - Parameter search using a tranformation pipeline"
   ]
  },
  {
   "cell_type": "code",
   "execution_count": 75,
   "metadata": {},
   "outputs": [],
   "source": [
    "ridge_cv_pipeline = Pipeline([('scaler', StandardScaler()), \n",
    "                     ('ridgeCV', GridSearchCV(estimator=Ridge(), \n",
    "                     param_grid=ridge_params, cv=ridge_cv))])"
   ]
  },
  {
   "cell_type": "markdown",
   "metadata": {},
   "source": [
    "Fit the model to the data while regularizing the weights using l2 norm penalty"
   ]
  },
  {
   "cell_type": "code",
   "execution_count": 76,
   "metadata": {},
   "outputs": [
    {
     "data": {
      "text/plain": [
       "Pipeline(steps=[('scaler', StandardScaler()),\n",
       "                ('ridgeCV',\n",
       "                 GridSearchCV(cv=RepeatedKFold(n_repeats=3, n_splits=5, random_state=1),\n",
       "                              estimator=Ridge(),\n",
       "                              param_grid={'alpha': [1, 0.5, 0.1],\n",
       "                                          'solver': ['cholesky', 'sag']}))])"
      ]
     },
     "execution_count": 76,
     "metadata": {},
     "output_type": "execute_result"
    }
   ],
   "source": [
    "ridge_cv_pipeline.fit(X_train, y_train)"
   ]
  },
  {
   "cell_type": "markdown",
   "metadata": {},
   "source": [
    "Now that you have the features, learn the weights for the three different models for predicting median_house_value using linear regression, test the model, and look at the value of the weights/coefficients:"
   ]
  },
  {
   "cell_type": "code",
   "execution_count": 77,
   "metadata": {},
   "outputs": [
    {
     "name": "stdout",
     "output_type": "stream",
     "text": [
      "train: RMSE: 253.04525369874705, MAE: 45932.21916426792, R2: 0.6028691272601177\n"
     ]
    },
    {
     "data": {
      "text/plain": [
       "(253.04525369874705, 45932.21916426792, 0.6028691272601177)"
      ]
     },
     "execution_count": 77,
     "metadata": {},
     "output_type": "execute_result"
    }
   ],
   "source": [
    "ridge_reg_train_pred = ridge_cv_pipeline.predict(X_train)\n",
    "print_info(\"train\", y_train, ridge_reg_train_pred)"
   ]
  },
  {
   "cell_type": "markdown",
   "metadata": {},
   "source": [
    "Now that you have evlauated the model on the training data, let's explore how the model generalizes to new examples."
   ]
  },
  {
   "cell_type": "code",
   "execution_count": 78,
   "metadata": {},
   "outputs": [
    {
     "name": "stdout",
     "output_type": "stream",
     "text": [
      "test: RMSE: 251.029804554328, MAE: 45103.44238902086, R2: 0.6121301716991447\n"
     ]
    },
    {
     "data": {
      "text/plain": [
       "(251.029804554328, 45103.44238902086, 0.6121301716991447)"
      ]
     },
     "execution_count": 78,
     "metadata": {},
     "output_type": "execute_result"
    }
   ],
   "source": [
    "ridge_reg_test_pred = ridge_cv_pipeline.predict(X_test)\n",
    "print_info(\"test\", y_test, ridge_reg_test_pred)"
   ]
  },
  {
   "cell_type": "markdown",
   "metadata": {},
   "source": [
    "Inspect cross validation performance, optimal score and parameters\n",
    "- mean_fit_time: mean time to fit the model\n",
    "- mean_score_time: evaluate score\n",
    "- params: alpha and solver parameters\n",
    "- split0_test_score: evaluate score for each fold\n",
    "- mean_test_score: average test score\n",
    "- std_test_score: standard deviation of test score\n",
    "- rank_test_score: rank of best to worst perfoming model from 1 to number of folds"
   ]
  },
  {
   "cell_type": "markdown",
   "metadata": {},
   "source": [
    "### Find the *best* ridge regression  model"
   ]
  },
  {
   "cell_type": "code",
   "execution_count": 79,
   "metadata": {},
   "outputs": [
    {
     "name": "stdout",
     "output_type": "stream",
     "text": [
      "Best model mean_fit_time: [0.002153   0.19238607 0.00197094 0.19712804 0.00200939 0.19575057]\n",
      "Best model mean_score_time: [0.00074382 0.00082906 0.0006916  0.00092608 0.00070491 0.00085297]\n",
      "Best model params: [{'alpha': 1, 'solver': 'cholesky'}, {'alpha': 1, 'solver': 'sag'}, {'alpha': 0.5, 'solver': 'cholesky'}, {'alpha': 0.5, 'solver': 'sag'}, {'alpha': 0.1, 'solver': 'cholesky'}, {'alpha': 0.1, 'solver': 'sag'}]\n",
      "Best model split0_test_score: [0.31359961 0.31216634 0.31369758 0.31183409 0.31417353 0.31176136]\n",
      "Best model mean_test_score: [0.50862239 0.50749685 0.50883164 0.50731877 0.50978699 0.50713455]\n",
      "Best model std_test_score: [0.21716371 0.2181562  0.21790968 0.21873873 0.21861301 0.21938822]\n",
      "Best model rank_test_score: [3 4 2 5 1 6]\n"
     ]
    }
   ],
   "source": [
    "#print('Best model acheived a score: %s'% ridge_cv[-1].cv_results_)\n",
    "print('Best model mean_fit_time: %s'% ridge_cv_pipeline[-1].cv_results_['mean_fit_time'])\n",
    "print('Best model mean_score_time: %s'% ridge_cv_pipeline[-1].cv_results_['mean_score_time'])\n",
    "print('Best model params: %s'% ridge_cv_pipeline[-1].cv_results_['params'])\n",
    "print('Best model split0_test_score: %s'% ridge_cv_pipeline[-1].cv_results_['split0_test_score'])\n",
    "print('Best model mean_test_score: %s'% ridge_cv_pipeline[-1].cv_results_['mean_test_score'])\n",
    "print('Best model std_test_score: %s'% ridge_cv_pipeline[-1].cv_results_['std_test_score'])\n",
    "print('Best model rank_test_score: %s'% ridge_cv_pipeline[-1].cv_results_['rank_test_score']) # top model with rank=1"
   ]
  },
  {
   "cell_type": "markdown",
   "metadata": {},
   "source": [
    "Next, train a ridge model using parameters for the best performing model from above. What are the ridge coefficients?"
   ]
  },
  {
   "cell_type": "code",
   "execution_count": 80,
   "metadata": {},
   "outputs": [
    {
     "name": "stdout",
     "output_type": "stream",
     "text": [
      "The top solver is cholesky and top parameter alpha 0.1\n",
      "train: RMSE: 253.04525369874705, MAE: 45932.21916426792, R2: 0.6028691272601177\n",
      "test: RMSE: 251.031894309611, MAE: 45142.20903941985, R2: 0.6121172558918643\n"
     ]
    },
    {
     "data": {
      "text/plain": [
       "(251.031894309611, 45142.20903941985, 0.6121172558918643)"
      ]
     },
     "execution_count": 80,
     "metadata": {},
     "output_type": "execute_result"
    }
   ],
   "source": [
    "# Activity [Ans]\n",
    "\n",
    "# Get solver and parameters of top model\n",
    "rank_score = ridge_cv_pipeline[-1].cv_results_['rank_test_score']\n",
    "top_model_idx = np.argmin(rank_score)\n",
    "top_alpha = ridge_cv_pipeline[-1].cv_results_['params'][top_model_idx]['alpha']\n",
    "top_solver = ridge_cv_pipeline[-1].cv_results_['params'][top_model_idx]['solver']\n",
    "print('The top solver is {} and top parameter alpha {}'.format(top_solver,top_alpha))\n",
    "\n",
    "# Normalize data\n",
    "scaler = StandardScaler()\n",
    "X_train_scaler = scaler.fit_transform(X_train)\n",
    "X_test_scaler = scaler.fit_transform(X_test)\n",
    "\n",
    "# Use parameters and solver for top model\n",
    "ridge_model = Ridge(alpha=top_alpha, solver=top_solver, random_state=42)\n",
    "ridge_model.fit(X_train_scaler, y_train)\n",
    "\n",
    "# Evlauate model on training data\n",
    "ridge_reg_train_pred = ridge_model.predict(X_train_scaler)\n",
    "print_info(\"train\", y_train, ridge_reg_train_pred)\n",
    "\n",
    "# Evlauate model on test data\n",
    "ridge_reg_test_pred = ridge_model.predict(X_test_scaler)\n",
    "print_info(\"test\", y_test, ridge_reg_test_pred)"
   ]
  },
  {
   "cell_type": "markdown",
   "metadata": {},
   "source": [
    "## Learning Lasso Regression Models"
   ]
  },
  {
   "cell_type": "code",
   "execution_count": 81,
   "metadata": {},
   "outputs": [],
   "source": [
    "from sklearn.linear_model import Lasso"
   ]
  },
  {
   "cell_type": "code",
   "execution_count": 82,
   "metadata": {},
   "outputs": [
    {
     "name": "stdout",
     "output_type": "stream",
     "text": [
      "train: RMSE: 253.41259011120619, MAE: 46093.98505925441, R2: 0.6005581004423577\n"
     ]
    },
    {
     "name": "stderr",
     "output_type": "stream",
     "text": [
      "/Users/angeliquetaylor/opt/anaconda3/lib/python3.8/site-packages/sklearn/linear_model/_coordinate_descent.py:530: ConvergenceWarning: Objective did not converge. You might want to increase the number of iterations. Duality gap: 17179095440999.78, tolerance: 8599080111.875143\n",
      "  model = cd_fast.enet_coordinate_descent(\n"
     ]
    },
    {
     "data": {
      "text/plain": [
       "(253.41259011120619, 46093.98505925441, 0.6005581004423577)"
      ]
     },
     "execution_count": 82,
     "metadata": {},
     "output_type": "execute_result"
    }
   ],
   "source": [
    "lasso_model = Lasso(alpha=1, random_state=42)\n",
    "lasso_model.fit(X_train, y_train)\n",
    "lasso_reg_train_pred = lasso_model.predict(X_train)\n",
    "print_info(\"train\", y_train, lasso_reg_train_pred)"
   ]
  },
  {
   "cell_type": "markdown",
   "metadata": {},
   "source": [
    "Define lasso hyperparameters"
   ]
  },
  {
   "cell_type": "code",
   "execution_count": 83,
   "metadata": {},
   "outputs": [],
   "source": [
    "n_splits=5\n",
    "n_repeats=3\n",
    "scoring='neg_mean_absolute_error' # neg_mean_squared_error for RMSE, 'r2' for R2 score\n",
    "\n",
    "# evaluation method\n",
    "lasso_cv = RepeatedKFold(n_splits=n_splits, n_repeats=n_repeats, random_state=1)"
   ]
  },
  {
   "cell_type": "markdown",
   "metadata": {},
   "source": [
    "Define regularization parameter \n",
    "- alpha: (referred to as lambda in slides) weight used to determine most useful features for predecting housing prices; must be non-negative\n",
    "- tolerance: determines when cross validation ends; set to low leads to early stopping and could result in bad performance; set too high could result in long training time for convergence."
   ]
  },
  {
   "cell_type": "code",
   "execution_count": 84,
   "metadata": {},
   "outputs": [],
   "source": [
    "lasso_params = {\n",
    "  'tol': [1, 0.5, 0.1],\n",
    "  'alpha': [1, 0.5, 0.1],\n",
    "}"
   ]
  },
  {
   "cell_type": "markdown",
   "metadata": {},
   "source": [
    "Perform cross validation to search for the best lambda paramater (alpha) using l1 norm regularization."
   ]
  },
  {
   "cell_type": "code",
   "execution_count": 85,
   "metadata": {},
   "outputs": [
    {
     "name": "stderr",
     "output_type": "stream",
     "text": [
      "/Users/angeliquetaylor/opt/anaconda3/lib/python3.8/site-packages/sklearn/linear_model/_coordinate_descent.py:530: ConvergenceWarning: Objective did not converge. You might want to increase the number of iterations. Duality gap: 13502469584228.87, tolerance: 6844163459091.992\n",
      "  model = cd_fast.enet_coordinate_descent(\n",
      "/Users/angeliquetaylor/opt/anaconda3/lib/python3.8/site-packages/sklearn/linear_model/_coordinate_descent.py:530: ConvergenceWarning: Objective did not converge. You might want to increase the number of iterations. Duality gap: 14012868066575.438, tolerance: 6923500703969.809\n",
      "  model = cd_fast.enet_coordinate_descent(\n",
      "/Users/angeliquetaylor/opt/anaconda3/lib/python3.8/site-packages/sklearn/linear_model/_coordinate_descent.py:530: ConvergenceWarning: Objective did not converge. You might want to increase the number of iterations. Duality gap: 13621665034051.816, tolerance: 6916396999251.691\n",
      "  model = cd_fast.enet_coordinate_descent(\n",
      "/Users/angeliquetaylor/opt/anaconda3/lib/python3.8/site-packages/sklearn/linear_model/_coordinate_descent.py:530: ConvergenceWarning: Objective did not converge. You might want to increase the number of iterations. Duality gap: 13596930778479.207, tolerance: 6854656350443.604\n",
      "  model = cd_fast.enet_coordinate_descent(\n",
      "/Users/angeliquetaylor/opt/anaconda3/lib/python3.8/site-packages/sklearn/linear_model/_coordinate_descent.py:530: ConvergenceWarning: Objective did not converge. You might want to increase the number of iterations. Duality gap: 13864024991478.828, tolerance: 6857559398268.303\n",
      "  model = cd_fast.enet_coordinate_descent(\n",
      "/Users/angeliquetaylor/opt/anaconda3/lib/python3.8/site-packages/sklearn/linear_model/_coordinate_descent.py:530: ConvergenceWarning: Objective did not converge. You might want to increase the number of iterations. Duality gap: 13822799389913.674, tolerance: 6907718271251.902\n",
      "  model = cd_fast.enet_coordinate_descent(\n",
      "/Users/angeliquetaylor/opt/anaconda3/lib/python3.8/site-packages/sklearn/linear_model/_coordinate_descent.py:530: ConvergenceWarning: Objective did not converge. You might want to increase the number of iterations. Duality gap: 13554309280766.38, tolerance: 6841769559429.379\n",
      "  model = cd_fast.enet_coordinate_descent(\n",
      "/Users/angeliquetaylor/opt/anaconda3/lib/python3.8/site-packages/sklearn/linear_model/_coordinate_descent.py:530: ConvergenceWarning: Objective did not converge. You might want to increase the number of iterations. Duality gap: 13586943123693.805, tolerance: 6813237581000.428\n",
      "  model = cd_fast.enet_coordinate_descent(\n",
      "/Users/angeliquetaylor/opt/anaconda3/lib/python3.8/site-packages/sklearn/linear_model/_coordinate_descent.py:530: ConvergenceWarning: Objective did not converge. You might want to increase the number of iterations. Duality gap: 13850966532217.125, tolerance: 6903227599138.55\n",
      "  model = cd_fast.enet_coordinate_descent(\n",
      "/Users/angeliquetaylor/opt/anaconda3/lib/python3.8/site-packages/sklearn/linear_model/_coordinate_descent.py:530: ConvergenceWarning: Objective did not converge. You might want to increase the number of iterations. Duality gap: 13692361942570.707, tolerance: 6930203719568.971\n",
      "  model = cd_fast.enet_coordinate_descent(\n",
      "/Users/angeliquetaylor/opt/anaconda3/lib/python3.8/site-packages/sklearn/linear_model/_coordinate_descent.py:530: ConvergenceWarning: Objective did not converge. You might want to increase the number of iterations. Duality gap: 13816412506496.875, tolerance: 6915970936478.856\n",
      "  model = cd_fast.enet_coordinate_descent(\n",
      "/Users/angeliquetaylor/opt/anaconda3/lib/python3.8/site-packages/sklearn/linear_model/_coordinate_descent.py:530: ConvergenceWarning: Objective did not converge. You might want to increase the number of iterations. Duality gap: 13568660170343.256, tolerance: 6884179163349.969\n",
      "  model = cd_fast.enet_coordinate_descent(\n",
      "/Users/angeliquetaylor/opt/anaconda3/lib/python3.8/site-packages/sklearn/linear_model/_coordinate_descent.py:530: ConvergenceWarning: Objective did not converge. You might want to increase the number of iterations. Duality gap: 13976276272177.965, tolerance: 6879644633843.226\n",
      "  model = cd_fast.enet_coordinate_descent(\n",
      "/Users/angeliquetaylor/opt/anaconda3/lib/python3.8/site-packages/sklearn/linear_model/_coordinate_descent.py:530: ConvergenceWarning: Objective did not converge. You might want to increase the number of iterations. Duality gap: 13660510545097.652, tolerance: 6948780851559.595\n",
      "  model = cd_fast.enet_coordinate_descent(\n",
      "/Users/angeliquetaylor/opt/anaconda3/lib/python3.8/site-packages/sklearn/linear_model/_coordinate_descent.py:530: ConvergenceWarning: Objective did not converge. You might want to increase the number of iterations. Duality gap: 13566043241548.615, tolerance: 6766800422732.588\n",
      "  model = cd_fast.enet_coordinate_descent(\n",
      "/Users/angeliquetaylor/opt/anaconda3/lib/python3.8/site-packages/sklearn/linear_model/_coordinate_descent.py:530: ConvergenceWarning: Objective did not converge. You might want to increase the number of iterations. Duality gap: 13500464251870.342, tolerance: 6844163459091.992\n",
      "  model = cd_fast.enet_coordinate_descent(\n",
      "/Users/angeliquetaylor/opt/anaconda3/lib/python3.8/site-packages/sklearn/linear_model/_coordinate_descent.py:530: ConvergenceWarning: Objective did not converge. You might want to increase the number of iterations. Duality gap: 14010978252932.846, tolerance: 6923500703969.809\n",
      "  model = cd_fast.enet_coordinate_descent(\n",
      "/Users/angeliquetaylor/opt/anaconda3/lib/python3.8/site-packages/sklearn/linear_model/_coordinate_descent.py:530: ConvergenceWarning: Objective did not converge. You might want to increase the number of iterations. Duality gap: 13619689897897.05, tolerance: 6916396999251.691\n",
      "  model = cd_fast.enet_coordinate_descent(\n",
      "/Users/angeliquetaylor/opt/anaconda3/lib/python3.8/site-packages/sklearn/linear_model/_coordinate_descent.py:530: ConvergenceWarning: Objective did not converge. You might want to increase the number of iterations. Duality gap: 13594983622081.861, tolerance: 6854656350443.604\n",
      "  model = cd_fast.enet_coordinate_descent(\n",
      "/Users/angeliquetaylor/opt/anaconda3/lib/python3.8/site-packages/sklearn/linear_model/_coordinate_descent.py:530: ConvergenceWarning: Objective did not converge. You might want to increase the number of iterations. Duality gap: 13862117717343.146, tolerance: 6857559398268.303\n",
      "  model = cd_fast.enet_coordinate_descent(\n",
      "/Users/angeliquetaylor/opt/anaconda3/lib/python3.8/site-packages/sklearn/linear_model/_coordinate_descent.py:530: ConvergenceWarning: Objective did not converge. You might want to increase the number of iterations. Duality gap: 13820824094358.096, tolerance: 6907718271251.902\n",
      "  model = cd_fast.enet_coordinate_descent(\n",
      "/Users/angeliquetaylor/opt/anaconda3/lib/python3.8/site-packages/sklearn/linear_model/_coordinate_descent.py:530: ConvergenceWarning: Objective did not converge. You might want to increase the number of iterations. Duality gap: 13552382634389.916, tolerance: 6841769559429.379\n",
      "  model = cd_fast.enet_coordinate_descent(\n",
      "/Users/angeliquetaylor/opt/anaconda3/lib/python3.8/site-packages/sklearn/linear_model/_coordinate_descent.py:530: ConvergenceWarning: Objective did not converge. You might want to increase the number of iterations. Duality gap: 13585037230749.178, tolerance: 6813237581000.428\n",
      "  model = cd_fast.enet_coordinate_descent(\n",
      "/Users/angeliquetaylor/opt/anaconda3/lib/python3.8/site-packages/sklearn/linear_model/_coordinate_descent.py:530: ConvergenceWarning: Objective did not converge. You might want to increase the number of iterations. Duality gap: 13849025083435.322, tolerance: 6903227599138.55\n",
      "  model = cd_fast.enet_coordinate_descent(\n",
      "/Users/angeliquetaylor/opt/anaconda3/lib/python3.8/site-packages/sklearn/linear_model/_coordinate_descent.py:530: ConvergenceWarning: Objective did not converge. You might want to increase the number of iterations. Duality gap: 13690439440505.863, tolerance: 6930203719568.971\n",
      "  model = cd_fast.enet_coordinate_descent(\n",
      "/Users/angeliquetaylor/opt/anaconda3/lib/python3.8/site-packages/sklearn/linear_model/_coordinate_descent.py:530: ConvergenceWarning: Objective did not converge. You might want to increase the number of iterations. Duality gap: 13814347988739.256, tolerance: 6915970936478.856\n",
      "  model = cd_fast.enet_coordinate_descent(\n",
      "/Users/angeliquetaylor/opt/anaconda3/lib/python3.8/site-packages/sklearn/linear_model/_coordinate_descent.py:530: ConvergenceWarning: Objective did not converge. You might want to increase the number of iterations. Duality gap: 13566810396278.258, tolerance: 6884179163349.969\n",
      "  model = cd_fast.enet_coordinate_descent(\n"
     ]
    },
    {
     "name": "stderr",
     "output_type": "stream",
     "text": [
      "/Users/angeliquetaylor/opt/anaconda3/lib/python3.8/site-packages/sklearn/linear_model/_coordinate_descent.py:530: ConvergenceWarning: Objective did not converge. You might want to increase the number of iterations. Duality gap: 13974395748668.959, tolerance: 6879644633843.226\n",
      "  model = cd_fast.enet_coordinate_descent(\n",
      "/Users/angeliquetaylor/opt/anaconda3/lib/python3.8/site-packages/sklearn/linear_model/_coordinate_descent.py:530: ConvergenceWarning: Objective did not converge. You might want to increase the number of iterations. Duality gap: 13658501204920.355, tolerance: 6948780851559.595\n",
      "  model = cd_fast.enet_coordinate_descent(\n",
      "/Users/angeliquetaylor/opt/anaconda3/lib/python3.8/site-packages/sklearn/linear_model/_coordinate_descent.py:530: ConvergenceWarning: Objective did not converge. You might want to increase the number of iterations. Duality gap: 13564127948836.57, tolerance: 6766800422732.588\n",
      "  model = cd_fast.enet_coordinate_descent(\n",
      "/Users/angeliquetaylor/opt/anaconda3/lib/python3.8/site-packages/sklearn/linear_model/_coordinate_descent.py:530: ConvergenceWarning: Objective did not converge. You might want to increase the number of iterations. Duality gap: 13498858136905.89, tolerance: 6844163459091.992\n",
      "  model = cd_fast.enet_coordinate_descent(\n",
      "/Users/angeliquetaylor/opt/anaconda3/lib/python3.8/site-packages/sklearn/linear_model/_coordinate_descent.py:530: ConvergenceWarning: Objective did not converge. You might want to increase the number of iterations. Duality gap: 14009464797535.264, tolerance: 6923500703969.809\n",
      "  model = cd_fast.enet_coordinate_descent(\n",
      "/Users/angeliquetaylor/opt/anaconda3/lib/python3.8/site-packages/sklearn/linear_model/_coordinate_descent.py:530: ConvergenceWarning: Objective did not converge. You might want to increase the number of iterations. Duality gap: 13618108001082.227, tolerance: 6916396999251.691\n",
      "  model = cd_fast.enet_coordinate_descent(\n",
      "/Users/angeliquetaylor/opt/anaconda3/lib/python3.8/site-packages/sklearn/linear_model/_coordinate_descent.py:530: ConvergenceWarning: Objective did not converge. You might want to increase the number of iterations. Duality gap: 13593423994277.102, tolerance: 6854656350443.604\n",
      "  model = cd_fast.enet_coordinate_descent(\n",
      "/Users/angeliquetaylor/opt/anaconda3/lib/python3.8/site-packages/sklearn/linear_model/_coordinate_descent.py:530: ConvergenceWarning: Objective did not converge. You might want to increase the number of iterations. Duality gap: 13860590144761.59, tolerance: 6857559398268.303\n",
      "  model = cd_fast.enet_coordinate_descent(\n",
      "/Users/angeliquetaylor/opt/anaconda3/lib/python3.8/site-packages/sklearn/linear_model/_coordinate_descent.py:530: ConvergenceWarning: Objective did not converge. You might want to increase the number of iterations. Duality gap: 13819242266787.578, tolerance: 6907718271251.902\n",
      "  model = cd_fast.enet_coordinate_descent(\n",
      "/Users/angeliquetaylor/opt/anaconda3/lib/python3.8/site-packages/sklearn/linear_model/_coordinate_descent.py:530: ConvergenceWarning: Objective did not converge. You might want to increase the number of iterations. Duality gap: 13550839314020.947, tolerance: 6841769559429.379\n",
      "  model = cd_fast.enet_coordinate_descent(\n",
      "/Users/angeliquetaylor/opt/anaconda3/lib/python3.8/site-packages/sklearn/linear_model/_coordinate_descent.py:530: ConvergenceWarning: Objective did not converge. You might want to increase the number of iterations. Duality gap: 13583510705566.271, tolerance: 6813237581000.428\n",
      "  model = cd_fast.enet_coordinate_descent(\n",
      "/Users/angeliquetaylor/opt/anaconda3/lib/python3.8/site-packages/sklearn/linear_model/_coordinate_descent.py:530: ConvergenceWarning: Objective did not converge. You might want to increase the number of iterations. Duality gap: 13847470157737.049, tolerance: 6903227599138.55\n",
      "  model = cd_fast.enet_coordinate_descent(\n",
      "/Users/angeliquetaylor/opt/anaconda3/lib/python3.8/site-packages/sklearn/linear_model/_coordinate_descent.py:530: ConvergenceWarning: Objective did not converge. You might want to increase the number of iterations. Duality gap: 13688899626148.262, tolerance: 6930203719568.971\n",
      "  model = cd_fast.enet_coordinate_descent(\n",
      "/Users/angeliquetaylor/opt/anaconda3/lib/python3.8/site-packages/sklearn/linear_model/_coordinate_descent.py:530: ConvergenceWarning: Objective did not converge. You might want to increase the number of iterations. Duality gap: 13812694410985.14, tolerance: 6915970936478.856\n",
      "  model = cd_fast.enet_coordinate_descent(\n",
      "/Users/angeliquetaylor/opt/anaconda3/lib/python3.8/site-packages/sklearn/linear_model/_coordinate_descent.py:530: ConvergenceWarning: Objective did not converge. You might want to increase the number of iterations. Duality gap: 13565328922153.453, tolerance: 6884179163349.969\n",
      "  model = cd_fast.enet_coordinate_descent(\n",
      "/Users/angeliquetaylor/opt/anaconda3/lib/python3.8/site-packages/sklearn/linear_model/_coordinate_descent.py:530: ConvergenceWarning: Objective did not converge. You might want to increase the number of iterations. Duality gap: 13972889587163.645, tolerance: 6879644633843.226\n",
      "  model = cd_fast.enet_coordinate_descent(\n",
      "/Users/angeliquetaylor/opt/anaconda3/lib/python3.8/site-packages/sklearn/linear_model/_coordinate_descent.py:530: ConvergenceWarning: Objective did not converge. You might want to increase the number of iterations. Duality gap: 13656891865254.498, tolerance: 6948780851559.595\n",
      "  model = cd_fast.enet_coordinate_descent(\n",
      "/Users/angeliquetaylor/opt/anaconda3/lib/python3.8/site-packages/sklearn/linear_model/_coordinate_descent.py:530: ConvergenceWarning: Objective did not converge. You might want to increase the number of iterations. Duality gap: 13562594046510.344, tolerance: 6766800422732.588\n",
      "  model = cd_fast.enet_coordinate_descent(\n",
      "/Users/angeliquetaylor/opt/anaconda3/lib/python3.8/site-packages/sklearn/linear_model/_coordinate_descent.py:530: ConvergenceWarning: Objective did not converge. You might want to increase the number of iterations. Duality gap: 17174736010516.896, tolerance: 8599080111875.143\n",
      "  model = cd_fast.enet_coordinate_descent(\n"
     ]
    }
   ],
   "source": [
    "# Option 1\n",
    "lasso_cv = GridSearchCV(estimator=Lasso(), param_grid=lasso_params, cv=lasso_cv).fit(X_train, y_train)"
   ]
  },
  {
   "cell_type": "code",
   "execution_count": 86,
   "metadata": {},
   "outputs": [],
   "source": [
    "# Option 2: Transformation Pipelines\n",
    "#lasso_cv = Pipeline([('scaler', StandardScaler()), ('lassoCV', GridSearchCV(estimator=Lasso(), param_grid=lasso_params, cv=lasso_cv))])"
   ]
  },
  {
   "cell_type": "markdown",
   "metadata": {},
   "source": [
    "Fit the model to the data while regularizing the weights using l1 norm penalty, learn the weights for predicting median_house_value using lasso regression, test the model, and look at the value of the weights/coefficients:"
   ]
  },
  {
   "cell_type": "code",
   "execution_count": 87,
   "metadata": {},
   "outputs": [
    {
     "name": "stderr",
     "output_type": "stream",
     "text": [
      "/Users/angeliquetaylor/opt/anaconda3/lib/python3.8/site-packages/sklearn/linear_model/_coordinate_descent.py:530: ConvergenceWarning: Objective did not converge. You might want to increase the number of iterations. Duality gap: 13502469584228.87, tolerance: 6844163459091.992\n",
      "  model = cd_fast.enet_coordinate_descent(\n",
      "/Users/angeliquetaylor/opt/anaconda3/lib/python3.8/site-packages/sklearn/linear_model/_coordinate_descent.py:530: ConvergenceWarning: Objective did not converge. You might want to increase the number of iterations. Duality gap: 14012868066575.438, tolerance: 6923500703969.809\n",
      "  model = cd_fast.enet_coordinate_descent(\n",
      "/Users/angeliquetaylor/opt/anaconda3/lib/python3.8/site-packages/sklearn/linear_model/_coordinate_descent.py:530: ConvergenceWarning: Objective did not converge. You might want to increase the number of iterations. Duality gap: 13621665034051.816, tolerance: 6916396999251.691\n",
      "  model = cd_fast.enet_coordinate_descent(\n",
      "/Users/angeliquetaylor/opt/anaconda3/lib/python3.8/site-packages/sklearn/linear_model/_coordinate_descent.py:530: ConvergenceWarning: Objective did not converge. You might want to increase the number of iterations. Duality gap: 13596930778479.207, tolerance: 6854656350443.604\n",
      "  model = cd_fast.enet_coordinate_descent(\n",
      "/Users/angeliquetaylor/opt/anaconda3/lib/python3.8/site-packages/sklearn/linear_model/_coordinate_descent.py:530: ConvergenceWarning: Objective did not converge. You might want to increase the number of iterations. Duality gap: 13864024991478.828, tolerance: 6857559398268.303\n",
      "  model = cd_fast.enet_coordinate_descent(\n",
      "/Users/angeliquetaylor/opt/anaconda3/lib/python3.8/site-packages/sklearn/linear_model/_coordinate_descent.py:530: ConvergenceWarning: Objective did not converge. You might want to increase the number of iterations. Duality gap: 13822799389913.674, tolerance: 6907718271251.902\n",
      "  model = cd_fast.enet_coordinate_descent(\n",
      "/Users/angeliquetaylor/opt/anaconda3/lib/python3.8/site-packages/sklearn/linear_model/_coordinate_descent.py:530: ConvergenceWarning: Objective did not converge. You might want to increase the number of iterations. Duality gap: 13554309280766.38, tolerance: 6841769559429.379\n",
      "  model = cd_fast.enet_coordinate_descent(\n",
      "/Users/angeliquetaylor/opt/anaconda3/lib/python3.8/site-packages/sklearn/linear_model/_coordinate_descent.py:530: ConvergenceWarning: Objective did not converge. You might want to increase the number of iterations. Duality gap: 13586943123693.805, tolerance: 6813237581000.428\n",
      "  model = cd_fast.enet_coordinate_descent(\n",
      "/Users/angeliquetaylor/opt/anaconda3/lib/python3.8/site-packages/sklearn/linear_model/_coordinate_descent.py:530: ConvergenceWarning: Objective did not converge. You might want to increase the number of iterations. Duality gap: 13850966532217.125, tolerance: 6903227599138.55\n",
      "  model = cd_fast.enet_coordinate_descent(\n",
      "/Users/angeliquetaylor/opt/anaconda3/lib/python3.8/site-packages/sklearn/linear_model/_coordinate_descent.py:530: ConvergenceWarning: Objective did not converge. You might want to increase the number of iterations. Duality gap: 13692361942570.707, tolerance: 6930203719568.971\n",
      "  model = cd_fast.enet_coordinate_descent(\n",
      "/Users/angeliquetaylor/opt/anaconda3/lib/python3.8/site-packages/sklearn/linear_model/_coordinate_descent.py:530: ConvergenceWarning: Objective did not converge. You might want to increase the number of iterations. Duality gap: 13816412506496.875, tolerance: 6915970936478.856\n",
      "  model = cd_fast.enet_coordinate_descent(\n",
      "/Users/angeliquetaylor/opt/anaconda3/lib/python3.8/site-packages/sklearn/linear_model/_coordinate_descent.py:530: ConvergenceWarning: Objective did not converge. You might want to increase the number of iterations. Duality gap: 13568660170343.256, tolerance: 6884179163349.969\n",
      "  model = cd_fast.enet_coordinate_descent(\n",
      "/Users/angeliquetaylor/opt/anaconda3/lib/python3.8/site-packages/sklearn/linear_model/_coordinate_descent.py:530: ConvergenceWarning: Objective did not converge. You might want to increase the number of iterations. Duality gap: 13976276272177.965, tolerance: 6879644633843.226\n",
      "  model = cd_fast.enet_coordinate_descent(\n",
      "/Users/angeliquetaylor/opt/anaconda3/lib/python3.8/site-packages/sklearn/linear_model/_coordinate_descent.py:530: ConvergenceWarning: Objective did not converge. You might want to increase the number of iterations. Duality gap: 13660510545097.652, tolerance: 6948780851559.595\n",
      "  model = cd_fast.enet_coordinate_descent(\n",
      "/Users/angeliquetaylor/opt/anaconda3/lib/python3.8/site-packages/sklearn/linear_model/_coordinate_descent.py:530: ConvergenceWarning: Objective did not converge. You might want to increase the number of iterations. Duality gap: 13566043241548.615, tolerance: 6766800422732.588\n",
      "  model = cd_fast.enet_coordinate_descent(\n",
      "/Users/angeliquetaylor/opt/anaconda3/lib/python3.8/site-packages/sklearn/linear_model/_coordinate_descent.py:530: ConvergenceWarning: Objective did not converge. You might want to increase the number of iterations. Duality gap: 13500464251870.342, tolerance: 6844163459091.992\n",
      "  model = cd_fast.enet_coordinate_descent(\n",
      "/Users/angeliquetaylor/opt/anaconda3/lib/python3.8/site-packages/sklearn/linear_model/_coordinate_descent.py:530: ConvergenceWarning: Objective did not converge. You might want to increase the number of iterations. Duality gap: 14010978252932.846, tolerance: 6923500703969.809\n",
      "  model = cd_fast.enet_coordinate_descent(\n",
      "/Users/angeliquetaylor/opt/anaconda3/lib/python3.8/site-packages/sklearn/linear_model/_coordinate_descent.py:530: ConvergenceWarning: Objective did not converge. You might want to increase the number of iterations. Duality gap: 13619689897897.05, tolerance: 6916396999251.691\n",
      "  model = cd_fast.enet_coordinate_descent(\n",
      "/Users/angeliquetaylor/opt/anaconda3/lib/python3.8/site-packages/sklearn/linear_model/_coordinate_descent.py:530: ConvergenceWarning: Objective did not converge. You might want to increase the number of iterations. Duality gap: 13594983622081.861, tolerance: 6854656350443.604\n",
      "  model = cd_fast.enet_coordinate_descent(\n",
      "/Users/angeliquetaylor/opt/anaconda3/lib/python3.8/site-packages/sklearn/linear_model/_coordinate_descent.py:530: ConvergenceWarning: Objective did not converge. You might want to increase the number of iterations. Duality gap: 13862117717343.146, tolerance: 6857559398268.303\n",
      "  model = cd_fast.enet_coordinate_descent(\n",
      "/Users/angeliquetaylor/opt/anaconda3/lib/python3.8/site-packages/sklearn/linear_model/_coordinate_descent.py:530: ConvergenceWarning: Objective did not converge. You might want to increase the number of iterations. Duality gap: 13820824094358.096, tolerance: 6907718271251.902\n",
      "  model = cd_fast.enet_coordinate_descent(\n",
      "/Users/angeliquetaylor/opt/anaconda3/lib/python3.8/site-packages/sklearn/linear_model/_coordinate_descent.py:530: ConvergenceWarning: Objective did not converge. You might want to increase the number of iterations. Duality gap: 13552382634389.916, tolerance: 6841769559429.379\n",
      "  model = cd_fast.enet_coordinate_descent(\n",
      "/Users/angeliquetaylor/opt/anaconda3/lib/python3.8/site-packages/sklearn/linear_model/_coordinate_descent.py:530: ConvergenceWarning: Objective did not converge. You might want to increase the number of iterations. Duality gap: 13585037230749.178, tolerance: 6813237581000.428\n",
      "  model = cd_fast.enet_coordinate_descent(\n",
      "/Users/angeliquetaylor/opt/anaconda3/lib/python3.8/site-packages/sklearn/linear_model/_coordinate_descent.py:530: ConvergenceWarning: Objective did not converge. You might want to increase the number of iterations. Duality gap: 13849025083435.322, tolerance: 6903227599138.55\n",
      "  model = cd_fast.enet_coordinate_descent(\n",
      "/Users/angeliquetaylor/opt/anaconda3/lib/python3.8/site-packages/sklearn/linear_model/_coordinate_descent.py:530: ConvergenceWarning: Objective did not converge. You might want to increase the number of iterations. Duality gap: 13690439440505.863, tolerance: 6930203719568.971\n",
      "  model = cd_fast.enet_coordinate_descent(\n",
      "/Users/angeliquetaylor/opt/anaconda3/lib/python3.8/site-packages/sklearn/linear_model/_coordinate_descent.py:530: ConvergenceWarning: Objective did not converge. You might want to increase the number of iterations. Duality gap: 13814347988739.256, tolerance: 6915970936478.856\n",
      "  model = cd_fast.enet_coordinate_descent(\n",
      "/Users/angeliquetaylor/opt/anaconda3/lib/python3.8/site-packages/sklearn/linear_model/_coordinate_descent.py:530: ConvergenceWarning: Objective did not converge. You might want to increase the number of iterations. Duality gap: 13566810396278.258, tolerance: 6884179163349.969\n",
      "  model = cd_fast.enet_coordinate_descent(\n"
     ]
    },
    {
     "name": "stderr",
     "output_type": "stream",
     "text": [
      "/Users/angeliquetaylor/opt/anaconda3/lib/python3.8/site-packages/sklearn/linear_model/_coordinate_descent.py:530: ConvergenceWarning: Objective did not converge. You might want to increase the number of iterations. Duality gap: 13974395748668.959, tolerance: 6879644633843.226\n",
      "  model = cd_fast.enet_coordinate_descent(\n",
      "/Users/angeliquetaylor/opt/anaconda3/lib/python3.8/site-packages/sklearn/linear_model/_coordinate_descent.py:530: ConvergenceWarning: Objective did not converge. You might want to increase the number of iterations. Duality gap: 13658501204920.355, tolerance: 6948780851559.595\n",
      "  model = cd_fast.enet_coordinate_descent(\n",
      "/Users/angeliquetaylor/opt/anaconda3/lib/python3.8/site-packages/sklearn/linear_model/_coordinate_descent.py:530: ConvergenceWarning: Objective did not converge. You might want to increase the number of iterations. Duality gap: 13564127948836.57, tolerance: 6766800422732.588\n",
      "  model = cd_fast.enet_coordinate_descent(\n",
      "/Users/angeliquetaylor/opt/anaconda3/lib/python3.8/site-packages/sklearn/linear_model/_coordinate_descent.py:530: ConvergenceWarning: Objective did not converge. You might want to increase the number of iterations. Duality gap: 13498858136905.89, tolerance: 6844163459091.992\n",
      "  model = cd_fast.enet_coordinate_descent(\n",
      "/Users/angeliquetaylor/opt/anaconda3/lib/python3.8/site-packages/sklearn/linear_model/_coordinate_descent.py:530: ConvergenceWarning: Objective did not converge. You might want to increase the number of iterations. Duality gap: 14009464797535.264, tolerance: 6923500703969.809\n",
      "  model = cd_fast.enet_coordinate_descent(\n",
      "/Users/angeliquetaylor/opt/anaconda3/lib/python3.8/site-packages/sklearn/linear_model/_coordinate_descent.py:530: ConvergenceWarning: Objective did not converge. You might want to increase the number of iterations. Duality gap: 13618108001082.227, tolerance: 6916396999251.691\n",
      "  model = cd_fast.enet_coordinate_descent(\n",
      "/Users/angeliquetaylor/opt/anaconda3/lib/python3.8/site-packages/sklearn/linear_model/_coordinate_descent.py:530: ConvergenceWarning: Objective did not converge. You might want to increase the number of iterations. Duality gap: 13593423994277.102, tolerance: 6854656350443.604\n",
      "  model = cd_fast.enet_coordinate_descent(\n",
      "/Users/angeliquetaylor/opt/anaconda3/lib/python3.8/site-packages/sklearn/linear_model/_coordinate_descent.py:530: ConvergenceWarning: Objective did not converge. You might want to increase the number of iterations. Duality gap: 13860590144761.59, tolerance: 6857559398268.303\n",
      "  model = cd_fast.enet_coordinate_descent(\n",
      "/Users/angeliquetaylor/opt/anaconda3/lib/python3.8/site-packages/sklearn/linear_model/_coordinate_descent.py:530: ConvergenceWarning: Objective did not converge. You might want to increase the number of iterations. Duality gap: 13819242266787.578, tolerance: 6907718271251.902\n",
      "  model = cd_fast.enet_coordinate_descent(\n",
      "/Users/angeliquetaylor/opt/anaconda3/lib/python3.8/site-packages/sklearn/linear_model/_coordinate_descent.py:530: ConvergenceWarning: Objective did not converge. You might want to increase the number of iterations. Duality gap: 13550839314020.947, tolerance: 6841769559429.379\n",
      "  model = cd_fast.enet_coordinate_descent(\n",
      "/Users/angeliquetaylor/opt/anaconda3/lib/python3.8/site-packages/sklearn/linear_model/_coordinate_descent.py:530: ConvergenceWarning: Objective did not converge. You might want to increase the number of iterations. Duality gap: 13583510705566.271, tolerance: 6813237581000.428\n",
      "  model = cd_fast.enet_coordinate_descent(\n",
      "/Users/angeliquetaylor/opt/anaconda3/lib/python3.8/site-packages/sklearn/linear_model/_coordinate_descent.py:530: ConvergenceWarning: Objective did not converge. You might want to increase the number of iterations. Duality gap: 13847470157737.049, tolerance: 6903227599138.55\n",
      "  model = cd_fast.enet_coordinate_descent(\n",
      "/Users/angeliquetaylor/opt/anaconda3/lib/python3.8/site-packages/sklearn/linear_model/_coordinate_descent.py:530: ConvergenceWarning: Objective did not converge. You might want to increase the number of iterations. Duality gap: 13688899626148.262, tolerance: 6930203719568.971\n",
      "  model = cd_fast.enet_coordinate_descent(\n",
      "/Users/angeliquetaylor/opt/anaconda3/lib/python3.8/site-packages/sklearn/linear_model/_coordinate_descent.py:530: ConvergenceWarning: Objective did not converge. You might want to increase the number of iterations. Duality gap: 13812694410985.14, tolerance: 6915970936478.856\n",
      "  model = cd_fast.enet_coordinate_descent(\n",
      "/Users/angeliquetaylor/opt/anaconda3/lib/python3.8/site-packages/sklearn/linear_model/_coordinate_descent.py:530: ConvergenceWarning: Objective did not converge. You might want to increase the number of iterations. Duality gap: 13565328922153.453, tolerance: 6884179163349.969\n",
      "  model = cd_fast.enet_coordinate_descent(\n",
      "/Users/angeliquetaylor/opt/anaconda3/lib/python3.8/site-packages/sklearn/linear_model/_coordinate_descent.py:530: ConvergenceWarning: Objective did not converge. You might want to increase the number of iterations. Duality gap: 13972889587163.645, tolerance: 6879644633843.226\n",
      "  model = cd_fast.enet_coordinate_descent(\n",
      "/Users/angeliquetaylor/opt/anaconda3/lib/python3.8/site-packages/sklearn/linear_model/_coordinate_descent.py:530: ConvergenceWarning: Objective did not converge. You might want to increase the number of iterations. Duality gap: 13656891865254.498, tolerance: 6948780851559.595\n",
      "  model = cd_fast.enet_coordinate_descent(\n",
      "/Users/angeliquetaylor/opt/anaconda3/lib/python3.8/site-packages/sklearn/linear_model/_coordinate_descent.py:530: ConvergenceWarning: Objective did not converge. You might want to increase the number of iterations. Duality gap: 13562594046510.344, tolerance: 6766800422732.588\n",
      "  model = cd_fast.enet_coordinate_descent(\n",
      "/Users/angeliquetaylor/opt/anaconda3/lib/python3.8/site-packages/sklearn/linear_model/_coordinate_descent.py:530: ConvergenceWarning: Objective did not converge. You might want to increase the number of iterations. Duality gap: 17174736010516.896, tolerance: 8599080111875.143\n",
      "  model = cd_fast.enet_coordinate_descent(\n"
     ]
    },
    {
     "data": {
      "text/plain": [
       "GridSearchCV(cv=RepeatedKFold(n_repeats=3, n_splits=5, random_state=1),\n",
       "             estimator=Lasso(),\n",
       "             param_grid={'alpha': [1, 0.5, 0.1], 'tol': [1, 0.5, 0.1]})"
      ]
     },
     "execution_count": 87,
     "metadata": {},
     "output_type": "execute_result"
    }
   ],
   "source": [
    "lasso_cv.fit(X_train, y_train)"
   ]
  },
  {
   "cell_type": "code",
   "execution_count": 88,
   "metadata": {},
   "outputs": [
    {
     "data": {
      "text/plain": [
       "{'alpha': 0.1, 'tol': 0.1}"
      ]
     },
     "execution_count": 88,
     "metadata": {},
     "output_type": "execute_result"
    }
   ],
   "source": [
    "# View params with best performance\n",
    "lasso_cv.best_params_"
   ]
  },
  {
   "cell_type": "markdown",
   "metadata": {},
   "source": [
    "Now, evaluate the model on the training data"
   ]
  },
  {
   "cell_type": "code",
   "execution_count": 89,
   "metadata": {},
   "outputs": [
    {
     "name": "stdout",
     "output_type": "stream",
     "text": [
      "train: RMSE: 253.41287553500678, MAE: 46093.56107787167, R2: 0.6005563008408832\n"
     ]
    },
    {
     "data": {
      "text/plain": [
       "(253.41287553500678, 46093.56107787167, 0.6005563008408832)"
      ]
     },
     "execution_count": 89,
     "metadata": {},
     "output_type": "execute_result"
    }
   ],
   "source": [
    "lasso_reg_train_pred = lasso_cv.predict(X_train)\n",
    "print_info(\"train\", y_train, lasso_reg_train_pred)"
   ]
  },
  {
   "cell_type": "markdown",
   "metadata": {},
   "source": [
    "Now, evaluate the model on the test data"
   ]
  },
  {
   "cell_type": "code",
   "execution_count": 90,
   "metadata": {},
   "outputs": [
    {
     "name": "stdout",
     "output_type": "stream",
     "text": [
      "test: RMSE: 251.5356452910003, MAE: 45310.48481187126, R2: 0.608994381651124\n"
     ]
    },
    {
     "data": {
      "text/plain": [
       "(251.5356452910003, 45310.48481187126, 0.608994381651124)"
      ]
     },
     "execution_count": 90,
     "metadata": {},
     "output_type": "execute_result"
    }
   ],
   "source": [
    "lasso_reg_test_pred = lasso_cv.predict(X_test)\n",
    "print_info(\"test\", y_test, lasso_reg_test_pred)"
   ]
  },
  {
   "cell_type": "markdown",
   "metadata": {},
   "source": [
    "Inspect cross validation performance, optimal score and parameters\n",
    "- mean_fit_time: mean time to fit the model\n",
    "- mean_score_time: evaluate score\n",
    "- params: alpha and solver parameters\n",
    "- split0_test_score: evaluate score for each fold\n",
    "- mean_test_score: average test score\n",
    "- std_test_score: standard deviation of test score\n",
    "- rank_test_score: rank of best to worst perfoming model from 1 to number of folds"
   ]
  },
  {
   "cell_type": "code",
   "execution_count": 91,
   "metadata": {},
   "outputs": [
    {
     "name": "stdout",
     "output_type": "stream",
     "text": [
      "Best model mean_test_score: [0.33420026 0.3928749  0.50735265 0.33421327 0.39288927 0.50735591\n",
      " 0.33422366 0.39290113 0.50735847]\n",
      "Best model rank_test_score: [9 6 3 8 5 2 7 4 1]\n"
     ]
    }
   ],
   "source": [
    "#print('Best model acheived a score: %s'% lasso_cv.cv_results_.keys())\n",
    "print('Best model mean_test_score: %s'% lasso_cv.cv_results_['mean_test_score'])\n",
    "print('Best model rank_test_score: %s'% lasso_cv.cv_results_['rank_test_score'])"
   ]
  },
  {
   "cell_type": "markdown",
   "metadata": {},
   "source": [
    "Next, \n",
    "- Use cross validation to learn l1 norm regularization weights for lasso regression\n",
    "- Use the best model parameters to train a lasso regression model\n",
    "- Evaluate the lasso model using RMSE, MAE, and R2 \n",
    "(see ridge regression example)"
   ]
  },
  {
   "cell_type": "code",
   "execution_count": 92,
   "metadata": {},
   "outputs": [
    {
     "name": "stdout",
     "output_type": "stream",
     "text": [
      "The top model has alpha: 0.1 and tolerance: 0.1\n"
     ]
    }
   ],
   "source": [
    "# Activity [Ans]\n",
    "rank_test_score = lasso_cv.cv_results_['rank_test_score']\n",
    "top_model_idx = np.argmin(rank_test_score)\n",
    "top_model_param = lasso_cv.cv_results_['params'][top_model_idx]\n",
    "top_alpha = top_model_param['alpha']\n",
    "top_tol = top_model_param['tol']\n",
    "print('The top model has alpha: {} and tolerance: {}'.format(top_alpha,top_tol))"
   ]
  },
  {
   "cell_type": "code",
   "execution_count": 93,
   "metadata": {},
   "outputs": [
    {
     "name": "stdout",
     "output_type": "stream",
     "text": [
      "train: RMSE: 253.41287553500678, MAE: 46093.56107787167, R2: 0.6005563008408832\n",
      "test: RMSE: 251.5356452910003, MAE: 45310.48481187126, R2: 0.608994381651124\n"
     ]
    },
    {
     "name": "stderr",
     "output_type": "stream",
     "text": [
      "/Users/angeliquetaylor/opt/anaconda3/lib/python3.8/site-packages/sklearn/linear_model/_coordinate_descent.py:530: ConvergenceWarning: Objective did not converge. You might want to increase the number of iterations. Duality gap: 17174736010516.896, tolerance: 8599080111875.143\n",
      "  model = cd_fast.enet_coordinate_descent(\n"
     ]
    },
    {
     "data": {
      "text/plain": [
       "(251.5356452910003, 45310.48481187126, 0.608994381651124)"
      ]
     },
     "execution_count": 93,
     "metadata": {},
     "output_type": "execute_result"
    }
   ],
   "source": [
    "# Create a lasso model with parameters of the best model\n",
    "lasso_model = Lasso(alpha=top_alpha, tol=top_tol, random_state=42)\n",
    "# Train lasso model\n",
    "lasso_model.fit(X_train, y_train)\n",
    "# Predict housing prices on training data\n",
    "lasso_reg_train_pred = lasso_model.predict(X_train)\n",
    "# Evaluate model on training data\n",
    "print_info(\"train\", y_train, lasso_reg_train_pred)\n",
    "# Predict housing prices on test data\n",
    "lasso_reg_test_pred = lasso_model.predict(X_test)\n",
    "# Evaluate model on training data\n",
    "print_info(\"test\", y_test, lasso_reg_test_pred)"
   ]
  },
  {
   "cell_type": "markdown",
   "metadata": {},
   "source": [
    "Test multiple regression model on one example"
   ]
  },
  {
   "cell_type": "code",
   "execution_count": 94,
   "metadata": {},
   "outputs": [
    {
     "name": "stdout",
     "output_type": "stream",
     "text": [
      "train: RMSE: 313.9740712712387, MAE: 76107.71978257412, R2: 0.05872612508354491\n"
     ]
    },
    {
     "data": {
      "text/plain": [
       "(313.9740712712387, 76107.71978257412, 0.05872612508354491)"
      ]
     },
     "execution_count": 94,
     "metadata": {},
     "output_type": "execute_result"
    }
   ],
   "source": [
    "multiple_reg_features = ['number_bedrooms','number_bathrooms']\n",
    "multiple_reg_model = LinearRegression().fit(X_train[multiple_reg_features], y_train)\n",
    "\n",
    "multiple_reg_train_pred = multiple_reg_model.predict(X_train[multiple_reg_features])\n",
    "print_info(\"train\", y_train, multiple_reg_train_pred)"
   ]
  },
  {
   "cell_type": "code",
   "execution_count": 95,
   "metadata": {},
   "outputs": [
    {
     "name": "stdout",
     "output_type": "stream",
     "text": [
      "multiple_reg_train_pred: [[169584.12432624]]\n"
     ]
    }
   ],
   "source": [
    "example_house = [2,2]\n",
    "multiple_reg_train_pred = multiple_reg_model.predict([example_house])\n",
    "print('multiple_reg_train_pred: {}'.format(multiple_reg_train_pred))"
   ]
  },
  {
   "cell_type": "code",
   "execution_count": null,
   "metadata": {},
   "outputs": [],
   "source": []
  }
 ],
 "metadata": {
  "kernelspec": {
   "display_name": "Python 3",
   "language": "python",
   "name": "python3"
  },
  "language_info": {
   "codemirror_mode": {
    "name": "ipython",
    "version": 3
   },
   "file_extension": ".py",
   "mimetype": "text/x-python",
   "name": "python",
   "nbconvert_exporter": "python",
   "pygments_lexer": "ipython3",
   "version": "3.8.8"
  },
  "vscode": {
   "interpreter": {
    "hash": "e774977668b7c0ae8309835a5187aa7fbf7669e7d0bb59755bc63e573643edcd"
   }
  }
 },
 "nbformat": 4,
 "nbformat_minor": 2
}
